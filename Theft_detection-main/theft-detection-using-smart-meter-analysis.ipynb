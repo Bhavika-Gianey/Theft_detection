{
 "cells": [
  {
   "cell_type": "markdown",
   "metadata": {},
   "source": [
    "<h1 align=\"center\"> Theft Detection Using Smart Meter Analysis </h1>\n",
    "    \n",
    "This notebook contains analysis of data and **our approach** for theft detection\n",
    "\n",
    "\n",
    "**Table of Contents**\n",
    "\n",
    "- [Data Description and Loading](#1.-Data-Description-and-Loading)\n",
    "- [Data Analysis and Preprocessing](#2.-Data-Analysis-and-Preprocessing)\n",
    "- [Clustering](#3.-Clustering)\n",
    "- [Data Manipulation](#4.-Data-Manipulation)\n",
    "- [Model Building with Hyperparameter Tuning](#5.-Model-Building)"
   ]
  },
  {
   "cell_type": "code",
   "execution_count": 1,
   "metadata": {},
   "outputs": [
    {
     "data": {
      "text/html": [
       "<style type='text/css'>\n",
       ".datatable table.frame { margin-bottom: 0; }\n",
       ".datatable table.frame thead { border-bottom: none; }\n",
       ".datatable table.frame tr.coltypes td {  color: #FFFFFF;  line-height: 6px;  padding: 0 0.5em;}\n",
       ".datatable .bool    { background: #DDDD99; }\n",
       ".datatable .object  { background: #565656; }\n",
       ".datatable .int     { background: #5D9E5D; }\n",
       ".datatable .float   { background: #4040CC; }\n",
       ".datatable .str     { background: #CC4040; }\n",
       ".datatable .row_index {  background: var(--jp-border-color3);  border-right: 1px solid var(--jp-border-color0);  color: var(--jp-ui-font-color3);  font-size: 9px;}\n",
       ".datatable .frame tr.coltypes .row_index {  background: var(--jp-border-color0);}\n",
       ".datatable th:nth-child(2) { padding-left: 12px; }\n",
       ".datatable .hellipsis {  color: var(--jp-cell-editor-border-color);}\n",
       ".datatable .vellipsis {  background: var(--jp-layout-color0);  color: var(--jp-cell-editor-border-color);}\n",
       ".datatable .na {  color: var(--jp-cell-editor-border-color);  font-size: 80%;}\n",
       ".datatable .footer { font-size: 9px; }\n",
       ".datatable .frame_dimensions {  background: var(--jp-border-color3);  border-top: 1px solid var(--jp-border-color0);  color: var(--jp-ui-font-color3);  display: inline-block;  opacity: 0.6;  padding: 1px 10px 1px 5px;}\n",
       "</style>\n"
      ],
      "text/plain": [
       "<IPython.core.display.HTML object>"
      ]
     },
     "metadata": {},
     "output_type": "display_data"
    }
   ],
   "source": [
    "## importing libraries\n",
    "import os\n",
    "import numpy as np # linear algebra\n",
    "import pandas as pd # data processing, CSV file I/O (e.g. pd.read_csv)\n",
    "import matplotlib.pyplot as plt\n",
    "import seaborn as sns\n",
    "import gc\n",
    "import optuna\n",
    "from tqdm.notebook import tqdm as tn\n",
    "from sklearn.model_selection import GridSearchCV, cross_val_score, StratifiedKFold, learning_curve\n",
    "from lightgbm import LGBMClassifier\n",
    "from sklearn.metrics import f1_score, auc, roc_curve\n",
    "\n",
    "from sklearn.ensemble import RandomForestClassifier, AdaBoostClassifier, GradientBoostingClassifier, ExtraTreesClassifier, VotingClassifier\n",
    "from sklearn.discriminant_analysis import LinearDiscriminantAnalysis\n",
    "from sklearn.linear_model import LogisticRegression\n",
    "from sklearn.neighbors import KNeighborsClassifier\n",
    "from sklearn.tree import DecisionTreeClassifier\n",
    "from sklearn.neural_network import MLPClassifier\n",
    "from sklearn.svm import SVC\n",
    "from sklearn.model_selection import GridSearchCV, cross_val_score, StratifiedKFold, learning_curve\n",
    "\n",
    "%matplotlib inline"
   ]
  },
  {
   "cell_type": "markdown",
   "metadata": {},
   "source": [
    "## 1. Data Description and Loading\n",
    "\n",
    "Given data is a refactored version of original smart meter data where the aggregations is performed on the half_hourly dataset to convert it to dataset\n",
    "\n",
    "We will use daily basis data for smart meter analysis as a representative averge of overall day\n",
    "\n",
    "**For more information about data, Read this [Article](https://medium.com/@boitemailjeanmid/smart-meters-in-london-part1-description-and-first-insights-jean-michel-d-db97af2de71b)**"
   ]
  },
  {
   "cell_type": "code",
   "execution_count": 2,
   "metadata": {},
   "outputs": [
    {
     "data": {
      "text/html": [
       "<div>\n",
       "<style scoped>\n",
       "    .dataframe tbody tr th:only-of-type {\n",
       "        vertical-align: middle;\n",
       "    }\n",
       "\n",
       "    .dataframe tbody tr th {\n",
       "        vertical-align: top;\n",
       "    }\n",
       "\n",
       "    .dataframe thead th {\n",
       "        text-align: right;\n",
       "    }\n",
       "</style>\n",
       "<table border=\"1\" class=\"dataframe\">\n",
       "  <thead>\n",
       "    <tr style=\"text-align: right;\">\n",
       "      <th></th>\n",
       "      <th>LCLid</th>\n",
       "      <th>day</th>\n",
       "      <th>energy_median</th>\n",
       "      <th>energy_mean</th>\n",
       "      <th>energy_max</th>\n",
       "      <th>energy_count</th>\n",
       "      <th>energy_std</th>\n",
       "      <th>energy_sum</th>\n",
       "      <th>energy_min</th>\n",
       "    </tr>\n",
       "  </thead>\n",
       "  <tbody>\n",
       "    <tr>\n",
       "      <th>0</th>\n",
       "      <td>MAC000131</td>\n",
       "      <td>2011-12-15</td>\n",
       "      <td>0.4850</td>\n",
       "      <td>0.432045</td>\n",
       "      <td>0.868</td>\n",
       "      <td>22</td>\n",
       "      <td>0.239146</td>\n",
       "      <td>9.505</td>\n",
       "      <td>0.072</td>\n",
       "    </tr>\n",
       "    <tr>\n",
       "      <th>1</th>\n",
       "      <td>MAC000131</td>\n",
       "      <td>2011-12-16</td>\n",
       "      <td>0.1415</td>\n",
       "      <td>0.296167</td>\n",
       "      <td>1.116</td>\n",
       "      <td>48</td>\n",
       "      <td>0.281471</td>\n",
       "      <td>14.216</td>\n",
       "      <td>0.031</td>\n",
       "    </tr>\n",
       "    <tr>\n",
       "      <th>2</th>\n",
       "      <td>MAC000131</td>\n",
       "      <td>2011-12-17</td>\n",
       "      <td>0.1015</td>\n",
       "      <td>0.189812</td>\n",
       "      <td>0.685</td>\n",
       "      <td>48</td>\n",
       "      <td>0.188405</td>\n",
       "      <td>9.111</td>\n",
       "      <td>0.064</td>\n",
       "    </tr>\n",
       "    <tr>\n",
       "      <th>3</th>\n",
       "      <td>MAC000131</td>\n",
       "      <td>2011-12-18</td>\n",
       "      <td>0.1140</td>\n",
       "      <td>0.218979</td>\n",
       "      <td>0.676</td>\n",
       "      <td>48</td>\n",
       "      <td>0.202919</td>\n",
       "      <td>10.511</td>\n",
       "      <td>0.065</td>\n",
       "    </tr>\n",
       "    <tr>\n",
       "      <th>4</th>\n",
       "      <td>MAC000131</td>\n",
       "      <td>2011-12-19</td>\n",
       "      <td>0.1910</td>\n",
       "      <td>0.325979</td>\n",
       "      <td>0.788</td>\n",
       "      <td>48</td>\n",
       "      <td>0.259205</td>\n",
       "      <td>15.647</td>\n",
       "      <td>0.066</td>\n",
       "    </tr>\n",
       "    <tr>\n",
       "      <th>...</th>\n",
       "      <td>...</td>\n",
       "      <td>...</td>\n",
       "      <td>...</td>\n",
       "      <td>...</td>\n",
       "      <td>...</td>\n",
       "      <td>...</td>\n",
       "      <td>...</td>\n",
       "      <td>...</td>\n",
       "      <td>...</td>\n",
       "    </tr>\n",
       "    <tr>\n",
       "      <th>3510428</th>\n",
       "      <td>MAC004977</td>\n",
       "      <td>2014-02-24</td>\n",
       "      <td>0.0950</td>\n",
       "      <td>0.118458</td>\n",
       "      <td>0.580</td>\n",
       "      <td>48</td>\n",
       "      <td>0.093814</td>\n",
       "      <td>5.686</td>\n",
       "      <td>0.052</td>\n",
       "    </tr>\n",
       "    <tr>\n",
       "      <th>3510429</th>\n",
       "      <td>MAC004977</td>\n",
       "      <td>2014-02-25</td>\n",
       "      <td>0.0675</td>\n",
       "      <td>0.084208</td>\n",
       "      <td>0.176</td>\n",
       "      <td>48</td>\n",
       "      <td>0.037107</td>\n",
       "      <td>4.042</td>\n",
       "      <td>0.046</td>\n",
       "    </tr>\n",
       "    <tr>\n",
       "      <th>3510430</th>\n",
       "      <td>MAC004977</td>\n",
       "      <td>2014-02-26</td>\n",
       "      <td>0.1080</td>\n",
       "      <td>0.120500</td>\n",
       "      <td>0.282</td>\n",
       "      <td>48</td>\n",
       "      <td>0.069332</td>\n",
       "      <td>5.784</td>\n",
       "      <td>0.046</td>\n",
       "    </tr>\n",
       "    <tr>\n",
       "      <th>3510431</th>\n",
       "      <td>MAC004977</td>\n",
       "      <td>2014-02-27</td>\n",
       "      <td>0.0720</td>\n",
       "      <td>0.114062</td>\n",
       "      <td>0.431</td>\n",
       "      <td>48</td>\n",
       "      <td>0.094482</td>\n",
       "      <td>5.475</td>\n",
       "      <td>0.047</td>\n",
       "    </tr>\n",
       "    <tr>\n",
       "      <th>3510432</th>\n",
       "      <td>MAC004977</td>\n",
       "      <td>2014-02-28</td>\n",
       "      <td>0.0970</td>\n",
       "      <td>0.097000</td>\n",
       "      <td>0.097</td>\n",
       "      <td>1</td>\n",
       "      <td>NaN</td>\n",
       "      <td>0.097</td>\n",
       "      <td>0.097</td>\n",
       "    </tr>\n",
       "  </tbody>\n",
       "</table>\n",
       "<p>3510433 rows × 9 columns</p>\n",
       "</div>"
      ],
      "text/plain": [
       "             LCLid         day  energy_median  energy_mean  energy_max  \\\n",
       "0        MAC000131  2011-12-15         0.4850     0.432045       0.868   \n",
       "1        MAC000131  2011-12-16         0.1415     0.296167       1.116   \n",
       "2        MAC000131  2011-12-17         0.1015     0.189812       0.685   \n",
       "3        MAC000131  2011-12-18         0.1140     0.218979       0.676   \n",
       "4        MAC000131  2011-12-19         0.1910     0.325979       0.788   \n",
       "...            ...         ...            ...          ...         ...   \n",
       "3510428  MAC004977  2014-02-24         0.0950     0.118458       0.580   \n",
       "3510429  MAC004977  2014-02-25         0.0675     0.084208       0.176   \n",
       "3510430  MAC004977  2014-02-26         0.1080     0.120500       0.282   \n",
       "3510431  MAC004977  2014-02-27         0.0720     0.114062       0.431   \n",
       "3510432  MAC004977  2014-02-28         0.0970     0.097000       0.097   \n",
       "\n",
       "         energy_count  energy_std  energy_sum  energy_min  \n",
       "0                  22    0.239146       9.505       0.072  \n",
       "1                  48    0.281471      14.216       0.031  \n",
       "2                  48    0.188405       9.111       0.064  \n",
       "3                  48    0.202919      10.511       0.065  \n",
       "4                  48    0.259205      15.647       0.066  \n",
       "...               ...         ...         ...         ...  \n",
       "3510428            48    0.093814       5.686       0.052  \n",
       "3510429            48    0.037107       4.042       0.046  \n",
       "3510430            48    0.069332       5.784       0.046  \n",
       "3510431            48    0.094482       5.475       0.047  \n",
       "3510432             1         NaN       0.097       0.097  \n",
       "\n",
       "[3510433 rows x 9 columns]"
      ]
     },
     "execution_count": 2,
     "metadata": {},
     "output_type": "execute_result"
    }
   ],
   "source": [
    "#loading data\n",
    "daily = pd.read_csv(\"../input/smart-meter-daily/daily_dataset.csv\")\n",
    "weather = pd.read_csv(\"../input/smart-meters-in-london/weather_daily_darksky.csv\")\n",
    "daily"
   ]
  },
  {
   "cell_type": "code",
   "execution_count": 3,
   "metadata": {},
   "outputs": [
    {
     "data": {
      "text/html": [
       "<div>\n",
       "<style scoped>\n",
       "    .dataframe tbody tr th:only-of-type {\n",
       "        vertical-align: middle;\n",
       "    }\n",
       "\n",
       "    .dataframe tbody tr th {\n",
       "        vertical-align: top;\n",
       "    }\n",
       "\n",
       "    .dataframe thead th {\n",
       "        text-align: right;\n",
       "    }\n",
       "</style>\n",
       "<table border=\"1\" class=\"dataframe\">\n",
       "  <thead>\n",
       "    <tr style=\"text-align: right;\">\n",
       "      <th></th>\n",
       "      <th>temperatureMax</th>\n",
       "      <th>temperatureMaxTime</th>\n",
       "      <th>windBearing</th>\n",
       "      <th>icon</th>\n",
       "      <th>dewPoint</th>\n",
       "      <th>temperatureMinTime</th>\n",
       "      <th>cloudCover</th>\n",
       "      <th>windSpeed</th>\n",
       "      <th>pressure</th>\n",
       "      <th>apparentTemperatureMinTime</th>\n",
       "      <th>...</th>\n",
       "      <th>temperatureHigh</th>\n",
       "      <th>sunriseTime</th>\n",
       "      <th>temperatureHighTime</th>\n",
       "      <th>uvIndexTime</th>\n",
       "      <th>summary</th>\n",
       "      <th>temperatureLowTime</th>\n",
       "      <th>apparentTemperatureMin</th>\n",
       "      <th>apparentTemperatureMaxTime</th>\n",
       "      <th>apparentTemperatureLowTime</th>\n",
       "      <th>moonPhase</th>\n",
       "    </tr>\n",
       "  </thead>\n",
       "  <tbody>\n",
       "    <tr>\n",
       "      <th>0</th>\n",
       "      <td>11.96</td>\n",
       "      <td>2011-11-11 23:00:00</td>\n",
       "      <td>123</td>\n",
       "      <td>fog</td>\n",
       "      <td>9.40</td>\n",
       "      <td>2011-11-11 07:00:00</td>\n",
       "      <td>0.79</td>\n",
       "      <td>3.88</td>\n",
       "      <td>1016.08</td>\n",
       "      <td>2011-11-11 07:00:00</td>\n",
       "      <td>...</td>\n",
       "      <td>10.87</td>\n",
       "      <td>2011-11-11 07:12:14</td>\n",
       "      <td>2011-11-11 19:00:00</td>\n",
       "      <td>2011-11-11 11:00:00</td>\n",
       "      <td>Foggy until afternoon.</td>\n",
       "      <td>2011-11-11 19:00:00</td>\n",
       "      <td>6.48</td>\n",
       "      <td>2011-11-11 23:00:00</td>\n",
       "      <td>2011-11-11 19:00:00</td>\n",
       "      <td>0.52</td>\n",
       "    </tr>\n",
       "    <tr>\n",
       "      <th>1</th>\n",
       "      <td>8.59</td>\n",
       "      <td>2011-12-11 14:00:00</td>\n",
       "      <td>198</td>\n",
       "      <td>partly-cloudy-day</td>\n",
       "      <td>4.49</td>\n",
       "      <td>2011-12-11 01:00:00</td>\n",
       "      <td>0.56</td>\n",
       "      <td>3.94</td>\n",
       "      <td>1007.71</td>\n",
       "      <td>2011-12-11 02:00:00</td>\n",
       "      <td>...</td>\n",
       "      <td>8.59</td>\n",
       "      <td>2011-12-11 07:57:02</td>\n",
       "      <td>2011-12-11 14:00:00</td>\n",
       "      <td>2011-12-11 12:00:00</td>\n",
       "      <td>Partly cloudy throughout the day.</td>\n",
       "      <td>2011-12-12 07:00:00</td>\n",
       "      <td>0.11</td>\n",
       "      <td>2011-12-11 20:00:00</td>\n",
       "      <td>2011-12-12 08:00:00</td>\n",
       "      <td>0.53</td>\n",
       "    </tr>\n",
       "    <tr>\n",
       "      <th>2</th>\n",
       "      <td>10.33</td>\n",
       "      <td>2011-12-27 02:00:00</td>\n",
       "      <td>225</td>\n",
       "      <td>partly-cloudy-day</td>\n",
       "      <td>5.47</td>\n",
       "      <td>2011-12-27 23:00:00</td>\n",
       "      <td>0.85</td>\n",
       "      <td>3.54</td>\n",
       "      <td>1032.76</td>\n",
       "      <td>2011-12-27 22:00:00</td>\n",
       "      <td>...</td>\n",
       "      <td>10.33</td>\n",
       "      <td>2011-12-27 08:07:06</td>\n",
       "      <td>2011-12-27 14:00:00</td>\n",
       "      <td>2011-12-27 00:00:00</td>\n",
       "      <td>Mostly cloudy throughout the day.</td>\n",
       "      <td>2011-12-27 23:00:00</td>\n",
       "      <td>5.59</td>\n",
       "      <td>2011-12-27 02:00:00</td>\n",
       "      <td>2011-12-28 00:00:00</td>\n",
       "      <td>0.10</td>\n",
       "    </tr>\n",
       "    <tr>\n",
       "      <th>3</th>\n",
       "      <td>8.07</td>\n",
       "      <td>2011-12-02 23:00:00</td>\n",
       "      <td>232</td>\n",
       "      <td>wind</td>\n",
       "      <td>3.69</td>\n",
       "      <td>2011-12-02 07:00:00</td>\n",
       "      <td>0.32</td>\n",
       "      <td>3.00</td>\n",
       "      <td>1012.12</td>\n",
       "      <td>2011-12-02 07:00:00</td>\n",
       "      <td>...</td>\n",
       "      <td>7.36</td>\n",
       "      <td>2011-12-02 07:46:09</td>\n",
       "      <td>2011-12-02 12:00:00</td>\n",
       "      <td>2011-12-02 10:00:00</td>\n",
       "      <td>Partly cloudy throughout the day and breezy ov...</td>\n",
       "      <td>2011-12-02 19:00:00</td>\n",
       "      <td>0.46</td>\n",
       "      <td>2011-12-02 12:00:00</td>\n",
       "      <td>2011-12-02 19:00:00</td>\n",
       "      <td>0.25</td>\n",
       "    </tr>\n",
       "    <tr>\n",
       "      <th>4</th>\n",
       "      <td>8.22</td>\n",
       "      <td>2011-12-24 23:00:00</td>\n",
       "      <td>252</td>\n",
       "      <td>partly-cloudy-night</td>\n",
       "      <td>2.79</td>\n",
       "      <td>2011-12-24 07:00:00</td>\n",
       "      <td>0.37</td>\n",
       "      <td>4.46</td>\n",
       "      <td>1028.17</td>\n",
       "      <td>2011-12-24 07:00:00</td>\n",
       "      <td>...</td>\n",
       "      <td>7.93</td>\n",
       "      <td>2011-12-24 08:06:15</td>\n",
       "      <td>2011-12-24 15:00:00</td>\n",
       "      <td>2011-12-24 13:00:00</td>\n",
       "      <td>Mostly cloudy throughout the day.</td>\n",
       "      <td>2011-12-24 19:00:00</td>\n",
       "      <td>-0.51</td>\n",
       "      <td>2011-12-24 23:00:00</td>\n",
       "      <td>2011-12-24 20:00:00</td>\n",
       "      <td>0.99</td>\n",
       "    </tr>\n",
       "  </tbody>\n",
       "</table>\n",
       "<p>5 rows × 32 columns</p>\n",
       "</div>"
      ],
      "text/plain": [
       "   temperatureMax   temperatureMaxTime  windBearing                 icon  \\\n",
       "0           11.96  2011-11-11 23:00:00          123                  fog   \n",
       "1            8.59  2011-12-11 14:00:00          198    partly-cloudy-day   \n",
       "2           10.33  2011-12-27 02:00:00          225    partly-cloudy-day   \n",
       "3            8.07  2011-12-02 23:00:00          232                 wind   \n",
       "4            8.22  2011-12-24 23:00:00          252  partly-cloudy-night   \n",
       "\n",
       "   dewPoint   temperatureMinTime  cloudCover  windSpeed  pressure  \\\n",
       "0      9.40  2011-11-11 07:00:00        0.79       3.88   1016.08   \n",
       "1      4.49  2011-12-11 01:00:00        0.56       3.94   1007.71   \n",
       "2      5.47  2011-12-27 23:00:00        0.85       3.54   1032.76   \n",
       "3      3.69  2011-12-02 07:00:00        0.32       3.00   1012.12   \n",
       "4      2.79  2011-12-24 07:00:00        0.37       4.46   1028.17   \n",
       "\n",
       "  apparentTemperatureMinTime  ...  temperatureHigh          sunriseTime  \\\n",
       "0        2011-11-11 07:00:00  ...            10.87  2011-11-11 07:12:14   \n",
       "1        2011-12-11 02:00:00  ...             8.59  2011-12-11 07:57:02   \n",
       "2        2011-12-27 22:00:00  ...            10.33  2011-12-27 08:07:06   \n",
       "3        2011-12-02 07:00:00  ...             7.36  2011-12-02 07:46:09   \n",
       "4        2011-12-24 07:00:00  ...             7.93  2011-12-24 08:06:15   \n",
       "\n",
       "   temperatureHighTime          uvIndexTime  \\\n",
       "0  2011-11-11 19:00:00  2011-11-11 11:00:00   \n",
       "1  2011-12-11 14:00:00  2011-12-11 12:00:00   \n",
       "2  2011-12-27 14:00:00  2011-12-27 00:00:00   \n",
       "3  2011-12-02 12:00:00  2011-12-02 10:00:00   \n",
       "4  2011-12-24 15:00:00  2011-12-24 13:00:00   \n",
       "\n",
       "                                             summary   temperatureLowTime  \\\n",
       "0                             Foggy until afternoon.  2011-11-11 19:00:00   \n",
       "1                  Partly cloudy throughout the day.  2011-12-12 07:00:00   \n",
       "2                  Mostly cloudy throughout the day.  2011-12-27 23:00:00   \n",
       "3  Partly cloudy throughout the day and breezy ov...  2011-12-02 19:00:00   \n",
       "4                  Mostly cloudy throughout the day.  2011-12-24 19:00:00   \n",
       "\n",
       "   apparentTemperatureMin  apparentTemperatureMaxTime  \\\n",
       "0                    6.48         2011-11-11 23:00:00   \n",
       "1                    0.11         2011-12-11 20:00:00   \n",
       "2                    5.59         2011-12-27 02:00:00   \n",
       "3                    0.46         2011-12-02 12:00:00   \n",
       "4                   -0.51         2011-12-24 23:00:00   \n",
       "\n",
       "  apparentTemperatureLowTime moonPhase  \n",
       "0        2011-11-11 19:00:00      0.52  \n",
       "1        2011-12-12 08:00:00      0.53  \n",
       "2        2011-12-28 00:00:00      0.10  \n",
       "3        2011-12-02 19:00:00      0.25  \n",
       "4        2011-12-24 20:00:00      0.99  \n",
       "\n",
       "[5 rows x 32 columns]"
      ]
     },
     "execution_count": 3,
     "metadata": {},
     "output_type": "execute_result"
    }
   ],
   "source": [
    "weather.head()"
   ]
  },
  {
   "cell_type": "code",
   "execution_count": 4,
   "metadata": {},
   "outputs": [
    {
     "data": {
      "text/plain": [
       "LCLid               5566\n",
       "day                  829\n",
       "energy_median      10015\n",
       "energy_mean       358607\n",
       "energy_max          6425\n",
       "energy_count          44\n",
       "energy_std       3127706\n",
       "energy_sum        391015\n",
       "energy_min          2149\n",
       "dtype: int64"
      ]
     },
     "execution_count": 4,
     "metadata": {},
     "output_type": "execute_result"
    }
   ],
   "source": [
    "## now definding the unique customer present in data\n",
    "daily.nunique()"
   ]
  },
  {
   "cell_type": "markdown",
   "metadata": {},
   "source": [
    "We have total 5566 ids now we filter those instances which have very less daily count"
   ]
  },
  {
   "cell_type": "markdown",
   "metadata": {},
   "source": [
    "## 2. Data Analysis and Preprocessing"
   ]
  },
  {
   "cell_type": "markdown",
   "metadata": {},
   "source": [
    "#### ID analysis on basis of half_hourly count\n",
    "Max Total half hourly count per day must be 48 for each daily entires, let's try to find how many have less than this and try to drop some of them"
   ]
  },
  {
   "cell_type": "code",
   "execution_count": 5,
   "metadata": {},
   "outputs": [
    {
     "name": "stderr",
     "output_type": "stream",
     "text": [
      "/opt/conda/lib/python3.7/site-packages/seaborn/_decorators.py:43: FutureWarning: Pass the following variable as a keyword arg: x. From version 0.12, the only valid positional argument will be `data`, and passing other arguments without an explicit keyword will result in an error or misinterpretation.\n",
      "  FutureWarning\n"
     ]
    },
    {
     "data": {
      "image/png": "[encoded data removed]",
      "text/plain": [
       "<Figure size 720x504 with 1 Axes>"
      ]
     },
     "metadata": {
      "needs_background": "light"
     },
     "output_type": "display_data"
    }
   ],
   "source": [
    "fig, ax = plt.subplots(figsize=(10,7))\n",
    "sns.boxplot(daily['energy_count'])\n",
    "plt.title(\"half_hourly_enery_count_per_day\")\n",
    "plt.savefig(\"half_hourly_count\")"
   ]
  },
  {
   "cell_type": "code",
   "execution_count": 6,
   "metadata": {},
   "outputs": [
    {
     "name": "stdout",
     "output_type": "stream",
     "text": [
      "no. of imstances having daily count less than 1 is 0.003227806940055543\n",
      "no. of imstances having daily count less than 2 is 0.003227806940055543\n",
      "no. of imstances having daily count less than 3 is 0.003227806940055543\n",
      "no. of imstances having daily count less than 4 is 0.0032283766703423765\n",
      "no. of imstances having daily count less than 5 is 0.0032283766703423765\n",
      "no. of imstances having daily count less than 6 is 0.0032283766703423765\n",
      "no. of imstances having daily count less than 7 is 0.0032283766703423765\n",
      "no. of imstances having daily count less than 8 is 0.0032289464006292103\n",
      "no. of imstances having daily count less than 9 is 0.0032295161309160436\n",
      "no. of imstances having daily count less than 10 is 0.0032300858612028774\n",
      "no. of imstances having daily count less than 11 is 0.003230370726346294\n",
      "no. of imstances having daily count less than 12 is 0.0032309404566331274\n",
      "no. of imstances having daily count less than 13 is 0.0032315101869199612\n",
      "no. of imstances having daily count less than 14 is 0.0032320799172067946\n",
      "no. of imstances having daily count less than 15 is 0.003235498298927796\n",
      "no. of imstances having daily count less than 16 is 0.003239771276079048\n",
      "no. of imstances having daily count less than 17 is 0.0032480323652381345\n",
      "no. of imstances having daily count less than 18 is 0.003266548599560225\n",
      "no. of imstances having daily count less than 19 is 0.00330415079849124\n",
      "no. of imstances having daily count less than 20 is 0.003352008142585259\n",
      "no. of imstances having daily count less than 21 is 0.003423224428439455\n",
      "no. of imstances having daily count less than 22 is 0.003513811544045991\n",
      "no. of imstances having daily count less than 23 is 0.003618926781966783\n",
      "no. of imstances having daily count less than 24 is 0.003739424737632081\n",
      "no. of imstances having daily count less than 25 is 0.003859352963010546\n",
      "no. of imstances having daily count less than 26 is 0.004004634186153104\n",
      "no. of imstances having daily count less than 27 is 0.004147351623004911\n",
      "no. of imstances having daily count less than 28 is 0.004302033395880223\n",
      "no. of imstances having daily count less than 29 is 0.004457000033898952\n",
      "no. of imstances having daily count less than 30 is 0.004607693694766429\n",
      "no. of imstances having daily count less than 31 is 0.004721354886989724\n",
      "no. of imstances having daily count less than 32 is 0.004799407936285922\n",
      "no. of imstances having daily count less than 33 is 0.004810517676879177\n",
      "no. of imstances having daily count less than 34 is 0.0048227668780460985\n",
      "no. of imstances having daily count less than 35 is 0.004833876618639353\n",
      "no. of imstances having daily count less than 36 is 0.004849829066670692\n",
      "no. of imstances having daily count less than 37 is 0.004869484761566451\n",
      "no. of imstances having daily count less than 38 is 0.004895692354760795\n",
      "no. of imstances having daily count less than 39 is 0.004927597250823474\n",
      "no. of imstances having daily count less than 40 is 0.004993970829239584\n",
      "no. of imstances having daily count less than 41 is 0.005040688712759936\n",
      "no. of imstances having daily count less than 42 is 0.005098801202016959\n",
      "no. of imstances having daily count less than 43 is 0.005170587218157988\n",
      "no. of imstances having daily count less than 44 is 0.005253198109748855\n",
      "no. of imstances having daily count less than 45 is 0.005374550660844403\n",
      "no. of imstances having daily count less than 46 is 0.005660840129978268\n",
      "no. of imstances having daily count less than 47 is 0.011702544956704771\n",
      "no. of imstances having daily count less than 48 is 1.0\n"
     ]
    }
   ],
   "source": [
    "cum_freq = []\n",
    "for i in range(1,49):\n",
    "    cum_freq.append(np.sum(daily['energy_count']<=i)/len(daily))\n",
    "    print(\"no. of imstances having daily count less than {} is {}\".format(i, np.sum(daily['energy_count']<=i)/len(daily)))"
   ]
  },
  {
   "cell_type": "code",
   "execution_count": 7,
   "metadata": {},
   "outputs": [
    {
     "data": {
      "image/png": "[encoded data removed]",
      "text/plain": [
       "<Figure size 432x288 with 1 Axes>"
      ]
     },
     "metadata": {
      "needs_background": "light"
     },
     "output_type": "display_data"
    }
   ],
   "source": [
    "plt.plot(range(1,49), cum_freq)\n",
    "plt.title(\"half_hourly_count_cumulative_frequency_precentage\")\n",
    "plt.xlabel(\"no.of half_hourly_count_per_day\")\n",
    "plt.ylabel(\"percentage_customer\")\n",
    "plt.savefig(\"cum_percentage_customer\")"
   ]
  },
  {
   "cell_type": "markdown",
   "metadata": {},
   "source": [
    "From the above plots and percentages we found that almost 99.99 precent people have all 48 half hourly counts per day **so we can drop those 0.01 percentage rows** as it is a nominal count.\n",
    "\n",
    "This dropping will result in the removal of 6 IDS, which is nominal while analysing all remaining 5660 IDs"
   ]
  },
  {
   "cell_type": "code",
   "execution_count": 8,
   "metadata": {},
   "outputs": [],
   "source": [
    "# dropping those rows which not have 48 hal_hourly count\n",
    "daily = daily.drop(daily[(daily[\"energy_count\"]<=47)].index.values, axis = 0)"
   ]
  },
  {
   "cell_type": "markdown",
   "metadata": {},
   "source": [
    "### ID analysis on basis of data of total days count"
   ]
  },
  {
   "cell_type": "code",
   "execution_count": 9,
   "metadata": {},
   "outputs": [
    {
     "name": "stderr",
     "output_type": "stream",
     "text": [
      "/opt/conda/lib/python3.7/site-packages/seaborn/_decorators.py:43: FutureWarning: Pass the following variable as a keyword arg: x. From version 0.12, the only valid positional argument will be `data`, and passing other arguments without an explicit keyword will result in an error or misinterpretation.\n",
      "  FutureWarning\n"
     ]
    },
    {
     "data": {
      "image/png": "[encoded data removed]",
      "text/plain": [
       "<Figure size 432x288 with 1 Axes>"
      ]
     },
     "metadata": {
      "needs_background": "light"
     },
     "output_type": "display_data"
    }
   ],
   "source": [
    "# plotting and finding outliers in daily_counts\n",
    "sns.boxplot(daily.groupby(\"LCLid\").size())\n",
    "plt.title(\"daily_energy_count\")\n",
    "plt.savefig(\"daily_energy_count_boxplot\")"
   ]
  },
  {
   "cell_type": "code",
   "execution_count": 10,
   "metadata": {},
   "outputs": [
    {
     "data": {
      "image/png": "[encoded data removed]",
      "text/plain": [
       "<Figure size 1080x720 with 1 Axes>"
      ]
     },
     "metadata": {
      "needs_background": "light"
     },
     "output_type": "display_data"
    }
   ],
   "source": [
    "#particular ids count\n",
    "plt.figure(figsize = (15,10))\n",
    "daily_count = daily.groupby(\"LCLid\").size()\n",
    "plt.plot(daily_count.index, daily_count.values)\n",
    "plt.title(\"daily_energy_count vs id\")\n",
    "plt.savefig(\"daily_energy_count vs id\")"
   ]
  },
  {
   "cell_type": "markdown",
   "metadata": {},
   "source": [
    "**Now we found that some of the ids have large duration which represents more instances, so we need to decide one period(Generally one year) where maximum number of ids will have enteries, so that the analysis can be fruitful**"
   ]
  },
  {
   "cell_type": "markdown",
   "metadata": {},
   "source": [
    "### Evaluation of the range of useful days in the dataset¶\n"
   ]
  },
  {
   "cell_type": "code",
   "execution_count": 11,
   "metadata": {},
   "outputs": [],
   "source": [
    "daily['day'] = pd.to_datetime(daily['day'])"
   ]
  },
  {
   "cell_type": "code",
   "execution_count": 12,
   "metadata": {},
   "outputs": [
    {
     "data": {
      "image/png": "[encoded data removed]",
      "text/plain": [
       "<Figure size 720x504 with 1 Axes>"
      ]
     },
     "metadata": {
      "needs_background": "light"
     },
     "output_type": "display_data"
    }
   ],
   "source": [
    "fig, ax = plt.subplots(figsize=(10,7))\n",
    "daily.groupby(\"day\").count()[[\"LCLid\"]].plot(ax = ax)\n",
    "plt.xlabel(\"Day\")\n",
    "plt.ylabel(\"Count of households\")\n",
    "fig.tight_layout()\n",
    "plt.savefig(\"evaluation_of_days.png\")"
   ]
  },
  {
   "cell_type": "markdown",
   "metadata": {},
   "source": [
    "Now on the basis of above plot we will found that the maximum number of customers is at the time period of around 2013 so we will focus all our entire analysis on this period."
   ]
  },
  {
   "cell_type": "code",
   "execution_count": 42,
   "metadata": {},
   "outputs": [],
   "source": [
    "## Now filtering data for year 2013\n",
    "final = daily[daily['day'].dt.year==2013]"
   ]
  },
  {
   "cell_type": "markdown",
   "metadata": {},
   "source": [
    "**Now we will find the daily_counts for this particular year**\n",
    "\n",
    "Max count can be 365(total days in this year)"
   ]
  },
  {
   "cell_type": "code",
   "execution_count": 34,
   "metadata": {},
   "outputs": [
    {
     "name": "stderr",
     "output_type": "stream",
     "text": [
      "/opt/conda/lib/python3.7/site-packages/seaborn/_decorators.py:43: FutureWarning: Pass the following variable as a keyword arg: x. From version 0.12, the only valid positional argument will be `data`, and passing other arguments without an explicit keyword will result in an error or misinterpretation.\n",
      "  FutureWarning\n"
     ]
    },
    {
     "data": {
      "text/plain": [
       "Text(0.5, 1.0, 'daily_energy_count_for_year_2013')"
      ]
     },
     "execution_count": 34,
     "metadata": {},
     "output_type": "execute_result"
    },
    {
     "data": {
      "image/png": "[encoded data removed]",
      "text/plain": [
       "<Figure size 432x288 with 1 Axes>"
      ]
     },
     "metadata": {
      "needs_background": "light"
     },
     "output_type": "display_data"
    }
   ],
   "source": [
    "# plotting and finding outliers in daily_counts\n",
    "sns.boxplot(final.groupby(\"LCLid\").size())\n",
    "plt.xlim(350,370)\n",
    "plt.title(\"daily_energy_count_for_year_2013\")"
   ]
  },
  {
   "cell_type": "markdown",
   "metadata": {},
   "source": [
    "From the plot we will assume that 250 will be a good estimate above which the count need to be there for a customer, let's see how many are below this"
   ]
  },
  {
   "cell_type": "code",
   "execution_count": 35,
   "metadata": {},
   "outputs": [
    {
     "name": "stdout",
     "output_type": "stream",
     "text": [
      "Households below this threshold: 295 households\n"
     ]
    }
   ],
   "source": [
    "# focus on selection criterai of 300 days at least\n",
    "grpby = final.groupby(\"LCLid\").size()\n",
    "list_devices = list(grpby[grpby<=250].index)\n",
    "print(\"Households below this threshold: {} households\".format(len(list_devices)))"
   ]
  },
  {
   "cell_type": "markdown",
   "metadata": {},
   "source": [
    "so we will get around **5 percent ids** so we can ignore these ids and drop it to maintain regulaity"
   ]
  },
  {
   "cell_type": "code",
   "execution_count": 45,
   "metadata": {},
   "outputs": [],
   "source": [
    "# removing those S percent ids\n",
    "final = final[~final['LCLid'].isin(list_devices)]"
   ]
  },
  {
   "cell_type": "code",
   "execution_count": 46,
   "metadata": {},
   "outputs": [
    {
     "data": {
      "text/plain": [
       "LCLid               5233\n",
       "day                  365\n",
       "energy_median       8198\n",
       "energy_mean       235695\n",
       "energy_max          5869\n",
       "energy_count           1\n",
       "energy_std       1761717\n",
       "energy_sum        281160\n",
       "energy_min          1877\n",
       "dtype: int64"
      ]
     },
     "execution_count": 46,
     "metadata": {},
     "output_type": "execute_result"
    }
   ],
   "source": [
    "# Now printing final unique_values\n",
    "final.nunique()"
   ]
  },
  {
   "cell_type": "markdown",
   "metadata": {},
   "source": [
    "### Temperature Data Analysis"
   ]
  },
  {
   "cell_type": "code",
   "execution_count": 47,
   "metadata": {},
   "outputs": [
    {
     "data": {
      "text/html": [
       "<div>\n",
       "<style scoped>\n",
       "    .dataframe tbody tr th:only-of-type {\n",
       "        vertical-align: middle;\n",
       "    }\n",
       "\n",
       "    .dataframe tbody tr th {\n",
       "        vertical-align: top;\n",
       "    }\n",
       "\n",
       "    .dataframe thead th {\n",
       "        text-align: right;\n",
       "    }\n",
       "</style>\n",
       "<table border=\"1\" class=\"dataframe\">\n",
       "  <thead>\n",
       "    <tr style=\"text-align: right;\">\n",
       "      <th></th>\n",
       "      <th>temperatureMax</th>\n",
       "      <th>temperatureMaxTime</th>\n",
       "      <th>windBearing</th>\n",
       "      <th>icon</th>\n",
       "      <th>dewPoint</th>\n",
       "      <th>temperatureMinTime</th>\n",
       "      <th>cloudCover</th>\n",
       "      <th>windSpeed</th>\n",
       "      <th>pressure</th>\n",
       "      <th>apparentTemperatureMinTime</th>\n",
       "      <th>...</th>\n",
       "      <th>temperatureHigh</th>\n",
       "      <th>sunriseTime</th>\n",
       "      <th>temperatureHighTime</th>\n",
       "      <th>uvIndexTime</th>\n",
       "      <th>summary</th>\n",
       "      <th>temperatureLowTime</th>\n",
       "      <th>apparentTemperatureMin</th>\n",
       "      <th>apparentTemperatureMaxTime</th>\n",
       "      <th>apparentTemperatureLowTime</th>\n",
       "      <th>moonPhase</th>\n",
       "    </tr>\n",
       "  </thead>\n",
       "  <tbody>\n",
       "    <tr>\n",
       "      <th>0</th>\n",
       "      <td>11.96</td>\n",
       "      <td>2011-11-11 23:00:00</td>\n",
       "      <td>123</td>\n",
       "      <td>fog</td>\n",
       "      <td>9.40</td>\n",
       "      <td>2011-11-11 07:00:00</td>\n",
       "      <td>0.79</td>\n",
       "      <td>3.88</td>\n",
       "      <td>1016.08</td>\n",
       "      <td>2011-11-11 07:00:00</td>\n",
       "      <td>...</td>\n",
       "      <td>10.87</td>\n",
       "      <td>2011-11-11 07:12:14</td>\n",
       "      <td>2011-11-11 19:00:00</td>\n",
       "      <td>2011-11-11 11:00:00</td>\n",
       "      <td>Foggy until afternoon.</td>\n",
       "      <td>2011-11-11 19:00:00</td>\n",
       "      <td>6.48</td>\n",
       "      <td>2011-11-11 23:00:00</td>\n",
       "      <td>2011-11-11 19:00:00</td>\n",
       "      <td>0.52</td>\n",
       "    </tr>\n",
       "    <tr>\n",
       "      <th>1</th>\n",
       "      <td>8.59</td>\n",
       "      <td>2011-12-11 14:00:00</td>\n",
       "      <td>198</td>\n",
       "      <td>partly-cloudy-day</td>\n",
       "      <td>4.49</td>\n",
       "      <td>2011-12-11 01:00:00</td>\n",
       "      <td>0.56</td>\n",
       "      <td>3.94</td>\n",
       "      <td>1007.71</td>\n",
       "      <td>2011-12-11 02:00:00</td>\n",
       "      <td>...</td>\n",
       "      <td>8.59</td>\n",
       "      <td>2011-12-11 07:57:02</td>\n",
       "      <td>2011-12-11 14:00:00</td>\n",
       "      <td>2011-12-11 12:00:00</td>\n",
       "      <td>Partly cloudy throughout the day.</td>\n",
       "      <td>2011-12-12 07:00:00</td>\n",
       "      <td>0.11</td>\n",
       "      <td>2011-12-11 20:00:00</td>\n",
       "      <td>2011-12-12 08:00:00</td>\n",
       "      <td>0.53</td>\n",
       "    </tr>\n",
       "    <tr>\n",
       "      <th>2</th>\n",
       "      <td>10.33</td>\n",
       "      <td>2011-12-27 02:00:00</td>\n",
       "      <td>225</td>\n",
       "      <td>partly-cloudy-day</td>\n",
       "      <td>5.47</td>\n",
       "      <td>2011-12-27 23:00:00</td>\n",
       "      <td>0.85</td>\n",
       "      <td>3.54</td>\n",
       "      <td>1032.76</td>\n",
       "      <td>2011-12-27 22:00:00</td>\n",
       "      <td>...</td>\n",
       "      <td>10.33</td>\n",
       "      <td>2011-12-27 08:07:06</td>\n",
       "      <td>2011-12-27 14:00:00</td>\n",
       "      <td>2011-12-27 00:00:00</td>\n",
       "      <td>Mostly cloudy throughout the day.</td>\n",
       "      <td>2011-12-27 23:00:00</td>\n",
       "      <td>5.59</td>\n",
       "      <td>2011-12-27 02:00:00</td>\n",
       "      <td>2011-12-28 00:00:00</td>\n",
       "      <td>0.10</td>\n",
       "    </tr>\n",
       "    <tr>\n",
       "      <th>3</th>\n",
       "      <td>8.07</td>\n",
       "      <td>2011-12-02 23:00:00</td>\n",
       "      <td>232</td>\n",
       "      <td>wind</td>\n",
       "      <td>3.69</td>\n",
       "      <td>2011-12-02 07:00:00</td>\n",
       "      <td>0.32</td>\n",
       "      <td>3.00</td>\n",
       "      <td>1012.12</td>\n",
       "      <td>2011-12-02 07:00:00</td>\n",
       "      <td>...</td>\n",
       "      <td>7.36</td>\n",
       "      <td>2011-12-02 07:46:09</td>\n",
       "      <td>2011-12-02 12:00:00</td>\n",
       "      <td>2011-12-02 10:00:00</td>\n",
       "      <td>Partly cloudy throughout the day and breezy ov...</td>\n",
       "      <td>2011-12-02 19:00:00</td>\n",
       "      <td>0.46</td>\n",
       "      <td>2011-12-02 12:00:00</td>\n",
       "      <td>2011-12-02 19:00:00</td>\n",
       "      <td>0.25</td>\n",
       "    </tr>\n",
       "    <tr>\n",
       "      <th>4</th>\n",
       "      <td>8.22</td>\n",
       "      <td>2011-12-24 23:00:00</td>\n",
       "      <td>252</td>\n",
       "      <td>partly-cloudy-night</td>\n",
       "      <td>2.79</td>\n",
       "      <td>2011-12-24 07:00:00</td>\n",
       "      <td>0.37</td>\n",
       "      <td>4.46</td>\n",
       "      <td>1028.17</td>\n",
       "      <td>2011-12-24 07:00:00</td>\n",
       "      <td>...</td>\n",
       "      <td>7.93</td>\n",
       "      <td>2011-12-24 08:06:15</td>\n",
       "      <td>2011-12-24 15:00:00</td>\n",
       "      <td>2011-12-24 13:00:00</td>\n",
       "      <td>Mostly cloudy throughout the day.</td>\n",
       "      <td>2011-12-24 19:00:00</td>\n",
       "      <td>-0.51</td>\n",
       "      <td>2011-12-24 23:00:00</td>\n",
       "      <td>2011-12-24 20:00:00</td>\n",
       "      <td>0.99</td>\n",
       "    </tr>\n",
       "    <tr>\n",
       "      <th>...</th>\n",
       "      <td>...</td>\n",
       "      <td>...</td>\n",
       "      <td>...</td>\n",
       "      <td>...</td>\n",
       "      <td>...</td>\n",
       "      <td>...</td>\n",
       "      <td>...</td>\n",
       "      <td>...</td>\n",
       "      <td>...</td>\n",
       "      <td>...</td>\n",
       "      <td>...</td>\n",
       "      <td>...</td>\n",
       "      <td>...</td>\n",
       "      <td>...</td>\n",
       "      <td>...</td>\n",
       "      <td>...</td>\n",
       "      <td>...</td>\n",
       "      <td>...</td>\n",
       "      <td>...</td>\n",
       "      <td>...</td>\n",
       "      <td>...</td>\n",
       "    </tr>\n",
       "    <tr>\n",
       "      <th>877</th>\n",
       "      <td>9.03</td>\n",
       "      <td>2014-01-26 16:00:00</td>\n",
       "      <td>233</td>\n",
       "      <td>partly-cloudy-day</td>\n",
       "      <td>2.39</td>\n",
       "      <td>2014-01-26 21:00:00</td>\n",
       "      <td>0.40</td>\n",
       "      <td>4.55</td>\n",
       "      <td>1002.10</td>\n",
       "      <td>2014-01-26 22:00:00</td>\n",
       "      <td>...</td>\n",
       "      <td>9.03</td>\n",
       "      <td>2014-01-26 07:48:49</td>\n",
       "      <td>2014-01-26 16:00:00</td>\n",
       "      <td>2014-01-26 11:00:00</td>\n",
       "      <td>Mostly cloudy until evening.</td>\n",
       "      <td>2014-01-27 05:00:00</td>\n",
       "      <td>-1.30</td>\n",
       "      <td>2014-01-26 15:00:00</td>\n",
       "      <td>2014-01-27 04:00:00</td>\n",
       "      <td>0.84</td>\n",
       "    </tr>\n",
       "    <tr>\n",
       "      <th>878</th>\n",
       "      <td>10.31</td>\n",
       "      <td>2014-02-27 14:00:00</td>\n",
       "      <td>224</td>\n",
       "      <td>partly-cloudy-day</td>\n",
       "      <td>3.08</td>\n",
       "      <td>2014-02-27 23:00:00</td>\n",
       "      <td>0.32</td>\n",
       "      <td>4.14</td>\n",
       "      <td>1007.02</td>\n",
       "      <td>2014-02-27 22:00:00</td>\n",
       "      <td>...</td>\n",
       "      <td>10.31</td>\n",
       "      <td>2014-02-27 06:51:45</td>\n",
       "      <td>2014-02-27 14:00:00</td>\n",
       "      <td>2014-02-27 12:00:00</td>\n",
       "      <td>Partly cloudy until evening.</td>\n",
       "      <td>2014-02-28 02:00:00</td>\n",
       "      <td>1.41</td>\n",
       "      <td>2014-02-27 14:00:00</td>\n",
       "      <td>2014-02-28 02:00:00</td>\n",
       "      <td>0.93</td>\n",
       "    </tr>\n",
       "    <tr>\n",
       "      <th>879</th>\n",
       "      <td>18.97</td>\n",
       "      <td>2014-03-09 14:00:00</td>\n",
       "      <td>172</td>\n",
       "      <td>partly-cloudy-night</td>\n",
       "      <td>4.30</td>\n",
       "      <td>2014-03-09 07:00:00</td>\n",
       "      <td>0.04</td>\n",
       "      <td>2.78</td>\n",
       "      <td>1022.44</td>\n",
       "      <td>2014-03-09 07:00:00</td>\n",
       "      <td>...</td>\n",
       "      <td>18.97</td>\n",
       "      <td>2014-03-09 06:29:49</td>\n",
       "      <td>2014-03-09 14:00:00</td>\n",
       "      <td>2014-03-09 12:00:00</td>\n",
       "      <td>Partly cloudy in the evening.</td>\n",
       "      <td>2014-03-10 05:00:00</td>\n",
       "      <td>7.08</td>\n",
       "      <td>2014-03-09 14:00:00</td>\n",
       "      <td>2014-03-10 06:00:00</td>\n",
       "      <td>0.28</td>\n",
       "    </tr>\n",
       "    <tr>\n",
       "      <th>880</th>\n",
       "      <td>8.83</td>\n",
       "      <td>2014-02-12 16:00:00</td>\n",
       "      <td>210</td>\n",
       "      <td>wind</td>\n",
       "      <td>1.94</td>\n",
       "      <td>2014-02-12 01:00:00</td>\n",
       "      <td>0.59</td>\n",
       "      <td>7.24</td>\n",
       "      <td>994.27</td>\n",
       "      <td>2014-02-12 01:00:00</td>\n",
       "      <td>...</td>\n",
       "      <td>8.83</td>\n",
       "      <td>2014-02-12 07:21:44</td>\n",
       "      <td>2014-02-12 16:00:00</td>\n",
       "      <td>2014-02-12 10:00:00</td>\n",
       "      <td>Mostly cloudy until evening and breezy through...</td>\n",
       "      <td>2014-02-13 05:00:00</td>\n",
       "      <td>-1.20</td>\n",
       "      <td>2014-02-12 16:00:00</td>\n",
       "      <td>2014-02-13 02:00:00</td>\n",
       "      <td>0.42</td>\n",
       "    </tr>\n",
       "    <tr>\n",
       "      <th>881</th>\n",
       "      <td>9.90</td>\n",
       "      <td>2014-02-15 12:00:00</td>\n",
       "      <td>233</td>\n",
       "      <td>wind</td>\n",
       "      <td>2.95</td>\n",
       "      <td>2014-02-15 23:00:00</td>\n",
       "      <td>0.35</td>\n",
       "      <td>9.96</td>\n",
       "      <td>988.63</td>\n",
       "      <td>2014-02-15 23:00:00</td>\n",
       "      <td>...</td>\n",
       "      <td>9.90</td>\n",
       "      <td>2014-02-15 07:16:06</td>\n",
       "      <td>2014-02-15 12:00:00</td>\n",
       "      <td>2014-02-15 10:00:00</td>\n",
       "      <td>Windy and mostly cloudy until afternoon.</td>\n",
       "      <td>2014-02-16 07:00:00</td>\n",
       "      <td>1.77</td>\n",
       "      <td>2014-02-15 12:00:00</td>\n",
       "      <td>2014-02-16 07:00:00</td>\n",
       "      <td>0.52</td>\n",
       "    </tr>\n",
       "  </tbody>\n",
       "</table>\n",
       "<p>882 rows × 32 columns</p>\n",
       "</div>"
      ],
      "text/plain": [
       "     temperatureMax   temperatureMaxTime  windBearing                 icon  \\\n",
       "0             11.96  2011-11-11 23:00:00          123                  fog   \n",
       "1              8.59  2011-12-11 14:00:00          198    partly-cloudy-day   \n",
       "2             10.33  2011-12-27 02:00:00          225    partly-cloudy-day   \n",
       "3              8.07  2011-12-02 23:00:00          232                 wind   \n",
       "4              8.22  2011-12-24 23:00:00          252  partly-cloudy-night   \n",
       "..              ...                  ...          ...                  ...   \n",
       "877            9.03  2014-01-26 16:00:00          233    partly-cloudy-day   \n",
       "878           10.31  2014-02-27 14:00:00          224    partly-cloudy-day   \n",
       "879           18.97  2014-03-09 14:00:00          172  partly-cloudy-night   \n",
       "880            8.83  2014-02-12 16:00:00          210                 wind   \n",
       "881            9.90  2014-02-15 12:00:00          233                 wind   \n",
       "\n",
       "     dewPoint   temperatureMinTime  cloudCover  windSpeed  pressure  \\\n",
       "0        9.40  2011-11-11 07:00:00        0.79       3.88   1016.08   \n",
       "1        4.49  2011-12-11 01:00:00        0.56       3.94   1007.71   \n",
       "2        5.47  2011-12-27 23:00:00        0.85       3.54   1032.76   \n",
       "3        3.69  2011-12-02 07:00:00        0.32       3.00   1012.12   \n",
       "4        2.79  2011-12-24 07:00:00        0.37       4.46   1028.17   \n",
       "..        ...                  ...         ...        ...       ...   \n",
       "877      2.39  2014-01-26 21:00:00        0.40       4.55   1002.10   \n",
       "878      3.08  2014-02-27 23:00:00        0.32       4.14   1007.02   \n",
       "879      4.30  2014-03-09 07:00:00        0.04       2.78   1022.44   \n",
       "880      1.94  2014-02-12 01:00:00        0.59       7.24    994.27   \n",
       "881      2.95  2014-02-15 23:00:00        0.35       9.96    988.63   \n",
       "\n",
       "    apparentTemperatureMinTime  ...  temperatureHigh          sunriseTime  \\\n",
       "0          2011-11-11 07:00:00  ...            10.87  2011-11-11 07:12:14   \n",
       "1          2011-12-11 02:00:00  ...             8.59  2011-12-11 07:57:02   \n",
       "2          2011-12-27 22:00:00  ...            10.33  2011-12-27 08:07:06   \n",
       "3          2011-12-02 07:00:00  ...             7.36  2011-12-02 07:46:09   \n",
       "4          2011-12-24 07:00:00  ...             7.93  2011-12-24 08:06:15   \n",
       "..                         ...  ...              ...                  ...   \n",
       "877        2014-01-26 22:00:00  ...             9.03  2014-01-26 07:48:49   \n",
       "878        2014-02-27 22:00:00  ...            10.31  2014-02-27 06:51:45   \n",
       "879        2014-03-09 07:00:00  ...            18.97  2014-03-09 06:29:49   \n",
       "880        2014-02-12 01:00:00  ...             8.83  2014-02-12 07:21:44   \n",
       "881        2014-02-15 23:00:00  ...             9.90  2014-02-15 07:16:06   \n",
       "\n",
       "     temperatureHighTime          uvIndexTime  \\\n",
       "0    2011-11-11 19:00:00  2011-11-11 11:00:00   \n",
       "1    2011-12-11 14:00:00  2011-12-11 12:00:00   \n",
       "2    2011-12-27 14:00:00  2011-12-27 00:00:00   \n",
       "3    2011-12-02 12:00:00  2011-12-02 10:00:00   \n",
       "4    2011-12-24 15:00:00  2011-12-24 13:00:00   \n",
       "..                   ...                  ...   \n",
       "877  2014-01-26 16:00:00  2014-01-26 11:00:00   \n",
       "878  2014-02-27 14:00:00  2014-02-27 12:00:00   \n",
       "879  2014-03-09 14:00:00  2014-03-09 12:00:00   \n",
       "880  2014-02-12 16:00:00  2014-02-12 10:00:00   \n",
       "881  2014-02-15 12:00:00  2014-02-15 10:00:00   \n",
       "\n",
       "                                               summary   temperatureLowTime  \\\n",
       "0                               Foggy until afternoon.  2011-11-11 19:00:00   \n",
       "1                    Partly cloudy throughout the day.  2011-12-12 07:00:00   \n",
       "2                    Mostly cloudy throughout the day.  2011-12-27 23:00:00   \n",
       "3    Partly cloudy throughout the day and breezy ov...  2011-12-02 19:00:00   \n",
       "4                    Mostly cloudy throughout the day.  2011-12-24 19:00:00   \n",
       "..                                                 ...                  ...   \n",
       "877                       Mostly cloudy until evening.  2014-01-27 05:00:00   \n",
       "878                       Partly cloudy until evening.  2014-02-28 02:00:00   \n",
       "879                      Partly cloudy in the evening.  2014-03-10 05:00:00   \n",
       "880  Mostly cloudy until evening and breezy through...  2014-02-13 05:00:00   \n",
       "881           Windy and mostly cloudy until afternoon.  2014-02-16 07:00:00   \n",
       "\n",
       "     apparentTemperatureMin  apparentTemperatureMaxTime  \\\n",
       "0                      6.48         2011-11-11 23:00:00   \n",
       "1                      0.11         2011-12-11 20:00:00   \n",
       "2                      5.59         2011-12-27 02:00:00   \n",
       "3                      0.46         2011-12-02 12:00:00   \n",
       "4                     -0.51         2011-12-24 23:00:00   \n",
       "..                      ...                         ...   \n",
       "877                   -1.30         2014-01-26 15:00:00   \n",
       "878                    1.41         2014-02-27 14:00:00   \n",
       "879                    7.08         2014-03-09 14:00:00   \n",
       "880                   -1.20         2014-02-12 16:00:00   \n",
       "881                    1.77         2014-02-15 12:00:00   \n",
       "\n",
       "    apparentTemperatureLowTime moonPhase  \n",
       "0          2011-11-11 19:00:00      0.52  \n",
       "1          2011-12-12 08:00:00      0.53  \n",
       "2          2011-12-28 00:00:00      0.10  \n",
       "3          2011-12-02 19:00:00      0.25  \n",
       "4          2011-12-24 20:00:00      0.99  \n",
       "..                         ...       ...  \n",
       "877        2014-01-27 04:00:00      0.84  \n",
       "878        2014-02-28 02:00:00      0.93  \n",
       "879        2014-03-10 06:00:00      0.28  \n",
       "880        2014-02-13 02:00:00      0.42  \n",
       "881        2014-02-16 07:00:00      0.52  \n",
       "\n",
       "[882 rows x 32 columns]"
      ]
     },
     "execution_count": 47,
     "metadata": {},
     "output_type": "execute_result"
    }
   ],
   "source": [
    "weather"
   ]
  },
  {
   "cell_type": "markdown",
   "metadata": {},
   "source": [
    "**For Temperature data**\n",
    "\n",
    "We saw that it is not consistent with date hence it is better as of now to just using energy data irrespective of temperature for this particular data"
   ]
  },
  {
   "cell_type": "markdown",
   "metadata": {},
   "source": [
    "### Aggregation over no. of days to form final features"
   ]
  },
  {
   "cell_type": "code",
   "execution_count": 57,
   "metadata": {},
   "outputs": [],
   "source": [
    "aggregated1 = final.groupby(\"LCLid\").mean().reset_index()\n",
    "aggregated2 = final.groupby(\"LCLid\").std().reset_index()\n",
    "# Now we will use this aggregated overall mean and standard deviation data for our final smart meter analysis\n",
    "final = pd.merge(aggregated1, aggregated2, on = \"LCLid\")"
   ]
  },
  {
   "cell_type": "markdown",
   "metadata": {},
   "source": [
    "## 3. Clustering\n",
    "\n",
    "Now we will perform Agglomerative clustering with cluster value = 3 as from our other analysis"
   ]
  },
  {
   "cell_type": "code",
   "execution_count": 66,
   "metadata": {},
   "outputs": [
    {
     "data": {
      "text/html": [
       "<div>\n",
       "<style scoped>\n",
       "    .dataframe tbody tr th:only-of-type {\n",
       "        vertical-align: middle;\n",
       "    }\n",
       "\n",
       "    .dataframe tbody tr th {\n",
       "        vertical-align: top;\n",
       "    }\n",
       "\n",
       "    .dataframe thead th {\n",
       "        text-align: right;\n",
       "    }\n",
       "</style>\n",
       "<table border=\"1\" class=\"dataframe\">\n",
       "  <thead>\n",
       "    <tr style=\"text-align: right;\">\n",
       "      <th></th>\n",
       "      <th>0</th>\n",
       "    </tr>\n",
       "  </thead>\n",
       "  <tbody>\n",
       "    <tr>\n",
       "      <th>0</th>\n",
       "      <td>2</td>\n",
       "    </tr>\n",
       "    <tr>\n",
       "      <th>1</th>\n",
       "      <td>1</td>\n",
       "    </tr>\n",
       "    <tr>\n",
       "      <th>2</th>\n",
       "      <td>1</td>\n",
       "    </tr>\n",
       "    <tr>\n",
       "      <th>3</th>\n",
       "      <td>1</td>\n",
       "    </tr>\n",
       "    <tr>\n",
       "      <th>4</th>\n",
       "      <td>1</td>\n",
       "    </tr>\n",
       "    <tr>\n",
       "      <th>...</th>\n",
       "      <td>...</td>\n",
       "    </tr>\n",
       "    <tr>\n",
       "      <th>5228</th>\n",
       "      <td>1</td>\n",
       "    </tr>\n",
       "    <tr>\n",
       "      <th>5229</th>\n",
       "      <td>2</td>\n",
       "    </tr>\n",
       "    <tr>\n",
       "      <th>5230</th>\n",
       "      <td>1</td>\n",
       "    </tr>\n",
       "    <tr>\n",
       "      <th>5231</th>\n",
       "      <td>0</td>\n",
       "    </tr>\n",
       "    <tr>\n",
       "      <th>5232</th>\n",
       "      <td>1</td>\n",
       "    </tr>\n",
       "  </tbody>\n",
       "</table>\n",
       "<p>5233 rows × 1 columns</p>\n",
       "</div>"
      ],
      "text/plain": [
       "      0\n",
       "0     2\n",
       "1     1\n",
       "2     1\n",
       "3     1\n",
       "4     1\n",
       "...  ..\n",
       "5228  1\n",
       "5229  2\n",
       "5230  1\n",
       "5231  0\n",
       "5232  1\n",
       "\n",
       "[5233 rows x 1 columns]"
      ]
     },
     "execution_count": 66,
     "metadata": {},
     "output_type": "execute_result"
    }
   ],
   "source": [
    "from sklearn.cluster import AgglomerativeClustering as ac\n",
    "cluster=ac(n_clusters=3, affinity='euclidean', linkage='ward')\n",
    "arr = pd.DataFrame(cluster.fit_predict(final[final.columns[1:2]])) # base on mean energy\n",
    "arr"
   ]
  },
  {
   "cell_type": "code",
   "execution_count": 68,
   "metadata": {},
   "outputs": [
    {
     "name": "stderr",
     "output_type": "stream",
     "text": [
      "/opt/conda/lib/python3.7/site-packages/seaborn/_decorators.py:43: FutureWarning: Pass the following variable as a keyword arg: x. From version 0.12, the only valid positional argument will be `data`, and passing other arguments without an explicit keyword will result in an error or misinterpretation.\n",
      "  FutureWarning\n"
     ]
    },
    {
     "data": {
      "image/png": "[encoded data removed]",
      "text/plain": [
       "<Figure size 432x288 with 1 Axes>"
      ]
     },
     "metadata": {
      "needs_background": "light"
     },
     "output_type": "display_data"
    }
   ],
   "source": [
    "sns.countplot(arr[0])\n",
    "plt.savefig(\"cluster_maps\")"
   ]
  },
  {
   "cell_type": "markdown",
   "metadata": {},
   "source": [
    "## 4. Data Manipulation"
   ]
  },
  {
   "cell_type": "code",
   "execution_count": 80,
   "metadata": {},
   "outputs": [
    {
     "data": {
      "text/plain": [
       "1    3509\n",
       "2    1416\n",
       "0     308\n",
       "dtype: int64"
      ]
     },
     "execution_count": 80,
     "metadata": {},
     "output_type": "execute_result"
    }
   ],
   "source": [
    "# based on this clustering we will choose the middle one for data manipulation\n",
    "\n",
    "arr.value_counts()\n"
   ]
  },
  {
   "cell_type": "code",
   "execution_count": 88,
   "metadata": {},
   "outputs": [],
   "source": [
    "# Now we will randomly pick around 600 ids from cluster 1 for transformation\n",
    "transform_indexes = list(arr[arr[0]==1].sample(600, random_state = 2).index)\n",
    "\n",
    "# dividing these transformation into three types and appyling different transformations on it\n",
    "in1 = transform_indexes[0:200]\n",
    "in2 = transform_indexes[200:400]\n",
    "in3 = transform_indexes[400:]\n",
    "\n"
   ]
  },
  {
   "cell_type": "code",
   "execution_count": 123,
   "metadata": {},
   "outputs": [],
   "source": [
    "final_id = final[\"LCLid\"]\n",
    "final.drop(\"LCLid\", axis = 1, inplace = True)"
   ]
  },
  {
   "cell_type": "code",
   "execution_count": 130,
   "metadata": {},
   "outputs": [],
   "source": [
    "theft1 = final[final.index.isin(in1)].reset_index(drop = True)\n",
    "theft2 = final[final.index.isin(in2)].reset_index(drop = True)\n",
    "theft3 = final[final.index.isin(in3)].reset_index(drop = True)\n"
   ]
  },
  {
   "cell_type": "code",
   "execution_count": 137,
   "metadata": {},
   "outputs": [
    {
     "data": {
      "text/html": [
       "<div>\n",
       "<style scoped>\n",
       "    .dataframe tbody tr th:only-of-type {\n",
       "        vertical-align: middle;\n",
       "    }\n",
       "\n",
       "    .dataframe tbody tr th {\n",
       "        vertical-align: top;\n",
       "    }\n",
       "\n",
       "    .dataframe thead th {\n",
       "        text-align: right;\n",
       "    }\n",
       "</style>\n",
       "<table border=\"1\" class=\"dataframe\">\n",
       "  <thead>\n",
       "    <tr style=\"text-align: right;\">\n",
       "      <th></th>\n",
       "      <th>energy_median_x</th>\n",
       "      <th>energy_mean_x</th>\n",
       "      <th>energy_max_x</th>\n",
       "      <th>energy_count_x</th>\n",
       "      <th>energy_std_x</th>\n",
       "      <th>energy_sum_x</th>\n",
       "      <th>energy_min_x</th>\n",
       "      <th>energy_median_y</th>\n",
       "      <th>energy_mean_y</th>\n",
       "      <th>energy_max_y</th>\n",
       "      <th>energy_count_y</th>\n",
       "      <th>energy_std_y</th>\n",
       "      <th>energy_sum_y</th>\n",
       "      <th>energy_min_y</th>\n",
       "    </tr>\n",
       "  </thead>\n",
       "  <tbody>\n",
       "    <tr>\n",
       "      <th>0</th>\n",
       "      <td>0.059711</td>\n",
       "      <td>0.254381</td>\n",
       "      <td>1.871767</td>\n",
       "      <td>45</td>\n",
       "      <td>0.429704</td>\n",
       "      <td>12.210265</td>\n",
       "      <td>0.002356</td>\n",
       "      <td>0.024966</td>\n",
       "      <td>0.169236</td>\n",
       "      <td>0.756800</td>\n",
       "      <td>0.0</td>\n",
       "      <td>0.241729</td>\n",
       "      <td>8.123327</td>\n",
       "      <td>0.004914</td>\n",
       "    </tr>\n",
       "    <tr>\n",
       "      <th>1</th>\n",
       "      <td>0.023562</td>\n",
       "      <td>0.031710</td>\n",
       "      <td>0.113294</td>\n",
       "      <td>9</td>\n",
       "      <td>0.024716</td>\n",
       "      <td>1.522084</td>\n",
       "      <td>0.011398</td>\n",
       "      <td>0.019200</td>\n",
       "      <td>0.018752</td>\n",
       "      <td>0.063797</td>\n",
       "      <td>0.0</td>\n",
       "      <td>0.019012</td>\n",
       "      <td>0.900106</td>\n",
       "      <td>0.001179</td>\n",
       "    </tr>\n",
       "    <tr>\n",
       "      <th>2</th>\n",
       "      <td>0.044355</td>\n",
       "      <td>0.059762</td>\n",
       "      <td>0.213266</td>\n",
       "      <td>37</td>\n",
       "      <td>0.044859</td>\n",
       "      <td>2.868563</td>\n",
       "      <td>0.016693</td>\n",
       "      <td>0.013648</td>\n",
       "      <td>0.010359</td>\n",
       "      <td>0.093606</td>\n",
       "      <td>0.0</td>\n",
       "      <td>0.016440</td>\n",
       "      <td>0.497248</td>\n",
       "      <td>0.003757</td>\n",
       "    </tr>\n",
       "    <tr>\n",
       "      <th>3</th>\n",
       "      <td>0.048925</td>\n",
       "      <td>0.074262</td>\n",
       "      <td>0.355967</td>\n",
       "      <td>27</td>\n",
       "      <td>0.079370</td>\n",
       "      <td>3.564552</td>\n",
       "      <td>0.003174</td>\n",
       "      <td>0.022060</td>\n",
       "      <td>0.028331</td>\n",
       "      <td>0.147953</td>\n",
       "      <td>0.0</td>\n",
       "      <td>0.027746</td>\n",
       "      <td>1.359876</td>\n",
       "      <td>0.008812</td>\n",
       "    </tr>\n",
       "    <tr>\n",
       "      <th>4</th>\n",
       "      <td>0.036829</td>\n",
       "      <td>0.073439</td>\n",
       "      <td>0.437179</td>\n",
       "      <td>47</td>\n",
       "      <td>0.096341</td>\n",
       "      <td>3.525051</td>\n",
       "      <td>0.009352</td>\n",
       "      <td>0.017886</td>\n",
       "      <td>0.053896</td>\n",
       "      <td>0.418790</td>\n",
       "      <td>0.0</td>\n",
       "      <td>0.098416</td>\n",
       "      <td>2.587010</td>\n",
       "      <td>0.004858</td>\n",
       "    </tr>\n",
       "    <tr>\n",
       "      <th>...</th>\n",
       "      <td>...</td>\n",
       "      <td>...</td>\n",
       "      <td>...</td>\n",
       "      <td>...</td>\n",
       "      <td>...</td>\n",
       "      <td>...</td>\n",
       "      <td>...</td>\n",
       "      <td>...</td>\n",
       "      <td>...</td>\n",
       "      <td>...</td>\n",
       "      <td>...</td>\n",
       "      <td>...</td>\n",
       "      <td>...</td>\n",
       "      <td>...</td>\n",
       "    </tr>\n",
       "    <tr>\n",
       "      <th>195</th>\n",
       "      <td>0.043817</td>\n",
       "      <td>0.060443</td>\n",
       "      <td>0.211648</td>\n",
       "      <td>13</td>\n",
       "      <td>0.048381</td>\n",
       "      <td>2.901284</td>\n",
       "      <td>0.012226</td>\n",
       "      <td>0.018943</td>\n",
       "      <td>0.018082</td>\n",
       "      <td>0.061595</td>\n",
       "      <td>0.0</td>\n",
       "      <td>0.014575</td>\n",
       "      <td>0.867920</td>\n",
       "      <td>0.003672</td>\n",
       "    </tr>\n",
       "    <tr>\n",
       "      <th>196</th>\n",
       "      <td>0.062347</td>\n",
       "      <td>0.086690</td>\n",
       "      <td>0.408646</td>\n",
       "      <td>22</td>\n",
       "      <td>0.085589</td>\n",
       "      <td>4.161120</td>\n",
       "      <td>0.010931</td>\n",
       "      <td>0.019128</td>\n",
       "      <td>0.024510</td>\n",
       "      <td>0.147728</td>\n",
       "      <td>0.0</td>\n",
       "      <td>0.032447</td>\n",
       "      <td>1.176483</td>\n",
       "      <td>0.007967</td>\n",
       "    </tr>\n",
       "    <tr>\n",
       "      <th>197</th>\n",
       "      <td>0.060816</td>\n",
       "      <td>0.075076</td>\n",
       "      <td>0.237483</td>\n",
       "      <td>36</td>\n",
       "      <td>0.047964</td>\n",
       "      <td>3.603638</td>\n",
       "      <td>0.018505</td>\n",
       "      <td>0.030668</td>\n",
       "      <td>0.029182</td>\n",
       "      <td>0.092491</td>\n",
       "      <td>0.0</td>\n",
       "      <td>0.011947</td>\n",
       "      <td>1.400758</td>\n",
       "      <td>0.026353</td>\n",
       "    </tr>\n",
       "    <tr>\n",
       "      <th>198</th>\n",
       "      <td>0.026165</td>\n",
       "      <td>0.035124</td>\n",
       "      <td>0.167769</td>\n",
       "      <td>9</td>\n",
       "      <td>0.030625</td>\n",
       "      <td>1.685952</td>\n",
       "      <td>0.013906</td>\n",
       "      <td>0.023632</td>\n",
       "      <td>0.025610</td>\n",
       "      <td>0.115778</td>\n",
       "      <td>0.0</td>\n",
       "      <td>0.018849</td>\n",
       "      <td>1.229268</td>\n",
       "      <td>0.018205</td>\n",
       "    </tr>\n",
       "    <tr>\n",
       "      <th>199</th>\n",
       "      <td>0.017330</td>\n",
       "      <td>0.025879</td>\n",
       "      <td>0.174688</td>\n",
       "      <td>12</td>\n",
       "      <td>0.029937</td>\n",
       "      <td>1.242204</td>\n",
       "      <td>0.007812</td>\n",
       "      <td>0.002894</td>\n",
       "      <td>0.008352</td>\n",
       "      <td>0.094291</td>\n",
       "      <td>0.0</td>\n",
       "      <td>0.016764</td>\n",
       "      <td>0.400904</td>\n",
       "      <td>0.000559</td>\n",
       "    </tr>\n",
       "  </tbody>\n",
       "</table>\n",
       "<p>200 rows × 14 columns</p>\n",
       "</div>"
      ],
      "text/plain": [
       "     energy_median_x  energy_mean_x  energy_max_x  energy_count_x  \\\n",
       "0           0.059711       0.254381      1.871767              45   \n",
       "1           0.023562       0.031710      0.113294               9   \n",
       "2           0.044355       0.059762      0.213266              37   \n",
       "3           0.048925       0.074262      0.355967              27   \n",
       "4           0.036829       0.073439      0.437179              47   \n",
       "..               ...            ...           ...             ...   \n",
       "195         0.043817       0.060443      0.211648              13   \n",
       "196         0.062347       0.086690      0.408646              22   \n",
       "197         0.060816       0.075076      0.237483              36   \n",
       "198         0.026165       0.035124      0.167769               9   \n",
       "199         0.017330       0.025879      0.174688              12   \n",
       "\n",
       "     energy_std_x  energy_sum_x  energy_min_x  energy_median_y  energy_mean_y  \\\n",
       "0        0.429704     12.210265      0.002356         0.024966       0.169236   \n",
       "1        0.024716      1.522084      0.011398         0.019200       0.018752   \n",
       "2        0.044859      2.868563      0.016693         0.013648       0.010359   \n",
       "3        0.079370      3.564552      0.003174         0.022060       0.028331   \n",
       "4        0.096341      3.525051      0.009352         0.017886       0.053896   \n",
       "..            ...           ...           ...              ...            ...   \n",
       "195      0.048381      2.901284      0.012226         0.018943       0.018082   \n",
       "196      0.085589      4.161120      0.010931         0.019128       0.024510   \n",
       "197      0.047964      3.603638      0.018505         0.030668       0.029182   \n",
       "198      0.030625      1.685952      0.013906         0.023632       0.025610   \n",
       "199      0.029937      1.242204      0.007812         0.002894       0.008352   \n",
       "\n",
       "     energy_max_y  energy_count_y  energy_std_y  energy_sum_y  energy_min_y  \n",
       "0        0.756800             0.0      0.241729      8.123327      0.004914  \n",
       "1        0.063797             0.0      0.019012      0.900106      0.001179  \n",
       "2        0.093606             0.0      0.016440      0.497248      0.003757  \n",
       "3        0.147953             0.0      0.027746      1.359876      0.008812  \n",
       "4        0.418790             0.0      0.098416      2.587010      0.004858  \n",
       "..            ...             ...           ...           ...           ...  \n",
       "195      0.061595             0.0      0.014575      0.867920      0.003672  \n",
       "196      0.147728             0.0      0.032447      1.176483      0.007967  \n",
       "197      0.092491             0.0      0.011947      1.400758      0.026353  \n",
       "198      0.115778             0.0      0.018849      1.229268      0.018205  \n",
       "199      0.094291             0.0      0.016764      0.400904      0.000559  \n",
       "\n",
       "[200 rows x 14 columns]"
      ]
     },
     "execution_count": 137,
     "metadata": {},
     "output_type": "execute_result"
    }
   ],
   "source": [
    "theft1"
   ]
  },
  {
   "cell_type": "code",
   "execution_count": 136,
   "metadata": {},
   "outputs": [
    {
     "name": "stderr",
     "output_type": "stream",
     "text": [
      "/opt/conda/lib/python3.7/site-packages/ipykernel_launcher.py:11: SettingWithCopyWarning: \n",
      "A value is trying to be set on a copy of a slice from a DataFrame\n",
      "\n",
      "See the caveats in the documentation: https://pandas.pydata.org/pandas-docs/stable/user_guide/indexing.html#returning-a-view-versus-a-copy\n",
      "  # This is added back by InteractiveShellApp.init_path()\n",
      "/opt/conda/lib/python3.7/site-packages/ipykernel_launcher.py:17: SettingWithCopyWarning: \n",
      "A value is trying to be set on a copy of a slice from a DataFrame\n",
      "\n",
      "See the caveats in the documentation: https://pandas.pydata.org/pandas-docs/stable/user_guide/indexing.html#returning-a-view-versus-a-copy\n"
     ]
    }
   ],
   "source": [
    "# Using standard normal distribution for transformation one number per row\n",
    "for i in range(len(theft1)):\n",
    "    val=np.random.rand()\n",
    "    for k, va in theft1.iteritems():\n",
    "        theft1[k][i]= theft1[k][i]*val\n",
    "\n",
    "# Using beta distribution for transformation one number per row\n",
    "for i in range(len(theft2)):\n",
    "    val=np.random.beta(0.2, 0.5)\n",
    "    for k, va in theft2.iteritems():\n",
    "        theft2[k][i]= theft2[k][i]*val\n",
    "\n",
    "# Using gamma distribution for transformation one number per row\n",
    "for i in range(len(theft3)):\n",
    "    val=np.random.gamma(2,3)\n",
    "    for k, va in theft3.iteritems():\n",
    "        theft3[k][i]= theft3[k][i]*val\n"
   ]
  },
  {
   "cell_type": "code",
   "execution_count": 140,
   "metadata": {},
   "outputs": [],
   "source": [
    "theft1['label'] = 1\n",
    "theft2['label'] = 1\n",
    "theft3['label'] = 1\n",
    "\n",
    "final['label'] = 0\n",
    "\n",
    "data =pd.concat([final,theft1,theft2,theft3]).reset_index(drop=  True)"
   ]
  },
  {
   "cell_type": "markdown",
   "metadata": {},
   "source": [
    "## 5. Model Building"
   ]
  },
  {
   "cell_type": "code",
   "execution_count": 146,
   "metadata": {},
   "outputs": [],
   "source": [
    "from sklearn.model_selection import train_test_split\n",
    "y = data[\"label\"]\n",
    "X = data[data.columns[:-1]]\n",
    "x_train, x_test, y_train, y_test = train_test_split(X, y, test_size=0.3, random_state=0, stratify = y)"
   ]
  },
  {
   "cell_type": "code",
   "execution_count": 155,
   "metadata": {},
   "outputs": [],
   "source": [
    "x_train.reset_index(drop = True, inplace = True)\n",
    "x_test.reset_index(drop = True, inplace = True)\n",
    "y_train.reset_index(drop = True, inplace = True)\n",
    "y_test.reset_index(drop = True, inplace = True)"
   ]
  },
  {
   "cell_type": "code",
   "execution_count": 156,
   "metadata": {},
   "outputs": [],
   "source": [
    "from optuna import Trial\n",
    "import gc\n",
    "import optuna\n",
    "from sklearn.model_selection import train_test_split\n",
    "from lightgbm import LGBMClassifier\n",
    "\n",
    "def objective(trial:Trial):\n",
    "    \n",
    "    gc.collect()\n",
    "    models=[]\n",
    "    validScore=0\n",
    "   \n",
    "    model,log = fitLGBM(trial,x_train,y_train)\n",
    "    \n",
    "    models.append(model)\n",
    "    gc.collect()\n",
    "    validScore+=log\n",
    "    validScore/=len(models)\n",
    "    \n",
    "    return validScore\n"
   ]
  },
  {
   "cell_type": "code",
   "execution_count": 187,
   "metadata": {},
   "outputs": [
    {
     "data": {
      "text/plain": [
       "420"
      ]
     },
     "execution_count": 187,
     "metadata": {},
     "output_type": "execute_result"
    }
   ],
   "source": []
  },
  {
   "cell_type": "code",
   "execution_count": 188,
   "metadata": {},
   "outputs": [],
   "source": [
    "def fitLGBM(trial,X, y):\n",
    "    \n",
    "    params={\n",
    "      'n_estimators':trial.suggest_int('n_estimators', 0, 1000), \n",
    "      'num_leaves':trial.suggest_int('num_leaves', 2, 512),\n",
    "      'max_depth':trial.suggest_int('max_depth', 2, 128),\n",
    "      'learning_rate': trial.suggest_loguniform('learning_rate', 0.001, 0.15),\n",
    "      'min_split_gain': trial.suggest_loguniform('min_split_gain', 0.001, 0.1),\n",
    "      'feature_fraction':trial.suggest_uniform('feature_fraction',0.1, 1.0),\n",
    "      'bagging_freq':trial.suggest_int('bagging_freq',0.1,10),\n",
    "      'verbosity': -1,\n",
    "      'random_state':44\n",
    "            }\n",
    "    stkfold = StratifiedKFold(n_splits=5, shuffle=True, random_state=44)\n",
    "    model = LGBMClassifier(**params, categorical_features = \"auto\")\n",
    "    \n",
    "    res=[]\n",
    "    for i, (tdx, vdx) in enumerate(stkfold.split(X, y)):\n",
    "        X_train, X_valid, y_train, y_valid = X.iloc[tdx], X.iloc[vdx], y[tdx], y[vdx]\n",
    "        model.fit(X_train, y_train,\n",
    "                 eval_set=[(X_train, y_train), (X_valid, y_valid)],\n",
    "                 early_stopping_rounds=30, verbose=False)\n",
    "        preds = model.predict_proba(X_valid)\n",
    "        false_positive_rate, true_positive_rate, thresholds = roc_curve(y_valid, preds[:,1])\n",
    "        # may differ\n",
    "        print (auc(false_positive_rate, true_positive_rate))\n",
    "        res.append(auc(false_positive_rate, true_positive_rate))\n",
    "    err = np.mean(res)\n",
    "    \n",
    "    return model, err"
   ]
  },
  {
   "cell_type": "code",
   "execution_count": 189,
   "metadata": {},
   "outputs": [
    {
     "name": "stderr",
     "output_type": "stream",
     "text": [
      "\u001b[32m[I 2021-04-28 19:27:40,977]\u001b[0m A new study created in memory with name: no-name-f4da673d-1132-4080-b6c5-a4751fa14f1c\u001b[0m\n",
      "/opt/conda/lib/python3.7/site-packages/optuna/distributions.py:565: UserWarning: The distribution is specified by [0.1, 10] and step=1, but the range is not divisible by `step`. It will be replaced by [0.1, 9.1].\n",
      "  low=low, old_high=old_high, high=high, step=step\n"
     ]
    },
    {
     "name": "stdout",
     "output_type": "stream",
     "text": [
      "[LightGBM] [Warning] Unknown parameter: categorical_features\n",
      "[LightGBM] [Warning] feature_fraction is set=0.606109761074764, colsample_bytree=1.0 will be ignored. Current value: feature_fraction=0.606109761074764\n",
      "[LightGBM] [Warning] bagging_freq is set=8, subsample_freq=0 will be ignored. Current value: bagging_freq=8\n",
      "1.0\n",
      "[LightGBM] [Warning] Unknown parameter: categorical_features\n",
      "[LightGBM] [Warning] feature_fraction is set=0.606109761074764, colsample_bytree=1.0 will be ignored. Current value: feature_fraction=0.606109761074764\n",
      "[LightGBM] [Warning] bagging_freq is set=8, subsample_freq=0 will be ignored. Current value: bagging_freq=8\n",
      "1.0\n",
      "[LightGBM] [Warning] Unknown parameter: categorical_features\n",
      "[LightGBM] [Warning] feature_fraction is set=0.606109761074764, colsample_bytree=1.0 will be ignored. Current value: feature_fraction=0.606109761074764\n",
      "[LightGBM] [Warning] bagging_freq is set=8, subsample_freq=0 will be ignored. Current value: bagging_freq=8\n",
      "1.0\n",
      "[LightGBM] [Warning] Unknown parameter: categorical_features\n",
      "[LightGBM] [Warning] feature_fraction is set=0.606109761074764, colsample_bytree=1.0 will be ignored. Current value: feature_fraction=0.606109761074764\n",
      "[LightGBM] [Warning] bagging_freq is set=8, subsample_freq=0 will be ignored. Current value: bagging_freq=8\n",
      "0.9944054124381994\n",
      "[LightGBM] [Warning] Unknown parameter: categorical_features\n",
      "[LightGBM] [Warning] feature_fraction is set=0.606109761074764, colsample_bytree=1.0 will be ignored. Current value: feature_fraction=0.606109761074764\n",
      "[LightGBM] [Warning] bagging_freq is set=8, subsample_freq=0 will be ignored. Current value: bagging_freq=8\n"
     ]
    },
    {
     "name": "stderr",
     "output_type": "stream",
     "text": [
      "\u001b[32m[I 2021-04-28 19:27:43,971]\u001b[0m Trial 0 finished with value: 0.99888108248764 and parameters: {'n_estimators': 488, 'num_leaves': 397, 'max_depth': 61, 'learning_rate': 0.028140725025461166, 'min_split_gain': 0.0016468621934459184, 'feature_fraction': 0.606109761074764, 'bagging_freq': 8}. Best is trial 0 with value: 0.99888108248764.\u001b[0m\n"
     ]
    },
    {
     "name": "stdout",
     "output_type": "stream",
     "text": [
      "1.0\n"
     ]
    },
    {
     "name": "stderr",
     "output_type": "stream",
     "text": [
      "/opt/conda/lib/python3.7/site-packages/optuna/distributions.py:565: UserWarning: The distribution is specified by [0.1, 10] and step=1, but the range is not divisible by `step`. It will be replaced by [0.1, 9.1].\n",
      "  low=low, old_high=old_high, high=high, step=step\n"
     ]
    },
    {
     "name": "stdout",
     "output_type": "stream",
     "text": [
      "[LightGBM] [Warning] Unknown parameter: categorical_features\n",
      "[LightGBM] [Warning] feature_fraction is set=0.21829832251507167, colsample_bytree=1.0 will be ignored. Current value: feature_fraction=0.21829832251507167\n",
      "[LightGBM] [Warning] bagging_freq is set=0, subsample_freq=0 will be ignored. Current value: bagging_freq=0\n",
      "1.0\n",
      "[LightGBM] [Warning] Unknown parameter: categorical_features\n",
      "[LightGBM] [Warning] feature_fraction is set=0.21829832251507167, colsample_bytree=1.0 will be ignored. Current value: feature_fraction=0.21829832251507167\n",
      "[LightGBM] [Warning] bagging_freq is set=0, subsample_freq=0 will be ignored. Current value: bagging_freq=0\n",
      "1.0\n",
      "[LightGBM] [Warning] Unknown parameter: categorical_features\n",
      "[LightGBM] [Warning] feature_fraction is set=0.21829832251507167, colsample_bytree=1.0 will be ignored. Current value: feature_fraction=0.21829832251507167\n",
      "[LightGBM] [Warning] bagging_freq is set=0, subsample_freq=0 will be ignored. Current value: bagging_freq=0\n",
      "1.0\n",
      "[LightGBM] [Warning] Unknown parameter: categorical_features\n",
      "[LightGBM] [Warning] feature_fraction is set=0.21829832251507167, colsample_bytree=1.0 will be ignored. Current value: feature_fraction=0.21829832251507167\n",
      "[LightGBM] [Warning] bagging_freq is set=0, subsample_freq=0 will be ignored. Current value: bagging_freq=0\n",
      "0.9915105386416863\n",
      "[LightGBM] [Warning] Unknown parameter: categorical_features\n",
      "[LightGBM] [Warning] feature_fraction is set=0.21829832251507167, colsample_bytree=1.0 will be ignored. Current value: feature_fraction=0.21829832251507167\n",
      "[LightGBM] [Warning] bagging_freq is set=0, subsample_freq=0 will be ignored. Current value: bagging_freq=0\n"
     ]
    },
    {
     "name": "stderr",
     "output_type": "stream",
     "text": [
      "\u001b[32m[I 2021-04-28 19:27:47,419]\u001b[0m Trial 1 finished with value: 0.9983021077283372 and parameters: {'n_estimators': 430, 'num_leaves': 194, 'max_depth': 121, 'learning_rate': 0.02560975446290483, 'min_split_gain': 0.07777884614835814, 'feature_fraction': 0.21829832251507167, 'bagging_freq': 0}. Best is trial 0 with value: 0.99888108248764.\u001b[0m\n"
     ]
    },
    {
     "name": "stdout",
     "output_type": "stream",
     "text": [
      "1.0\n"
     ]
    },
    {
     "name": "stderr",
     "output_type": "stream",
     "text": [
      "/opt/conda/lib/python3.7/site-packages/optuna/distributions.py:565: UserWarning: The distribution is specified by [0.1, 10] and step=1, but the range is not divisible by `step`. It will be replaced by [0.1, 9.1].\n",
      "  low=low, old_high=old_high, high=high, step=step\n"
     ]
    },
    {
     "name": "stdout",
     "output_type": "stream",
     "text": [
      "[LightGBM] [Warning] Unknown parameter: categorical_features\n",
      "[LightGBM] [Warning] feature_fraction is set=0.5149137171893795, colsample_bytree=1.0 will be ignored. Current value: feature_fraction=0.5149137171893795\n",
      "[LightGBM] [Warning] bagging_freq is set=2, subsample_freq=0 will be ignored. Current value: bagging_freq=2\n",
      "1.0\n",
      "[LightGBM] [Warning] Unknown parameter: categorical_features\n",
      "[LightGBM] [Warning] feature_fraction is set=0.5149137171893795, colsample_bytree=1.0 will be ignored. Current value: feature_fraction=0.5149137171893795\n",
      "[LightGBM] [Warning] bagging_freq is set=2, subsample_freq=0 will be ignored. Current value: bagging_freq=2\n",
      "1.0\n",
      "[LightGBM] [Warning] Unknown parameter: categorical_features\n",
      "[LightGBM] [Warning] feature_fraction is set=0.5149137171893795, colsample_bytree=1.0 will be ignored. Current value: feature_fraction=0.5149137171893795\n",
      "[LightGBM] [Warning] bagging_freq is set=2, subsample_freq=0 will be ignored. Current value: bagging_freq=2\n",
      "1.0\n",
      "[LightGBM] [Warning] Unknown parameter: categorical_features\n",
      "[LightGBM] [Warning] feature_fraction is set=0.5149137171893795, colsample_bytree=1.0 will be ignored. Current value: feature_fraction=0.5149137171893795\n",
      "[LightGBM] [Warning] bagging_freq is set=2, subsample_freq=0 will be ignored. Current value: bagging_freq=2\n",
      "0.9929905022118137\n",
      "[LightGBM] [Warning] Unknown parameter: categorical_features\n",
      "[LightGBM] [Warning] feature_fraction is set=0.5149137171893795, colsample_bytree=1.0 will be ignored. Current value: feature_fraction=0.5149137171893795\n",
      "[LightGBM] [Warning] bagging_freq is set=2, subsample_freq=0 will be ignored. Current value: bagging_freq=2\n"
     ]
    },
    {
     "name": "stderr",
     "output_type": "stream",
     "text": [
      "\u001b[32m[I 2021-04-28 19:27:49,154]\u001b[0m Trial 2 finished with value: 0.9985981004423629 and parameters: {'n_estimators': 165, 'num_leaves': 56, 'max_depth': 91, 'learning_rate': 0.0011852963127421121, 'min_split_gain': 0.0018139136799910393, 'feature_fraction': 0.5149137171893795, 'bagging_freq': 2}. Best is trial 0 with value: 0.99888108248764.\u001b[0m\n"
     ]
    },
    {
     "name": "stdout",
     "output_type": "stream",
     "text": [
      "1.0\n"
     ]
    },
    {
     "name": "stderr",
     "output_type": "stream",
     "text": [
      "/opt/conda/lib/python3.7/site-packages/optuna/distributions.py:565: UserWarning: The distribution is specified by [0.1, 10] and step=1, but the range is not divisible by `step`. It will be replaced by [0.1, 9.1].\n",
      "  low=low, old_high=old_high, high=high, step=step\n"
     ]
    },
    {
     "name": "stdout",
     "output_type": "stream",
     "text": [
      "[LightGBM] [Warning] Unknown parameter: categorical_features\n",
      "[LightGBM] [Warning] feature_fraction is set=0.7796344384585414, colsample_bytree=1.0 will be ignored. Current value: feature_fraction=0.7796344384585414\n",
      "[LightGBM] [Warning] bagging_freq is set=3, subsample_freq=0 will be ignored. Current value: bagging_freq=3\n",
      "1.0\n",
      "[LightGBM] [Warning] Unknown parameter: categorical_features\n",
      "[LightGBM] [Warning] feature_fraction is set=0.7796344384585414, colsample_bytree=1.0 will be ignored. Current value: feature_fraction=0.7796344384585414\n",
      "[LightGBM] [Warning] bagging_freq is set=3, subsample_freq=0 will be ignored. Current value: bagging_freq=3\n",
      "1.0\n",
      "[LightGBM] [Warning] Unknown parameter: categorical_features\n",
      "[LightGBM] [Warning] feature_fraction is set=0.7796344384585414, colsample_bytree=1.0 will be ignored. Current value: feature_fraction=0.7796344384585414\n",
      "[LightGBM] [Warning] bagging_freq is set=3, subsample_freq=0 will be ignored. Current value: bagging_freq=3\n",
      "1.0\n",
      "[LightGBM] [Warning] Unknown parameter: categorical_features\n",
      "[LightGBM] [Warning] feature_fraction is set=0.7796344384585414, colsample_bytree=1.0 will be ignored. Current value: feature_fraction=0.7796344384585414\n",
      "[LightGBM] [Warning] bagging_freq is set=3, subsample_freq=0 will be ignored. Current value: bagging_freq=3\n"
     ]
    },
    {
     "ename": "KeyboardInterrupt",
     "evalue": "",
     "output_type": "error",
     "traceback": [
      "\u001b[0;31m---------------------------------------------------------------------------\u001b[0m",
      "\u001b[0;31mKeyboardInterrupt\u001b[0m                         Traceback (most recent call last)",
      "\u001b[0;32m<ipython-input-189-680830e85fdc>\u001b[0m in \u001b[0;36m<module>\u001b[0;34m\u001b[0m\n\u001b[1;32m      1\u001b[0m \u001b[0mstudy\u001b[0m \u001b[0;34m=\u001b[0m \u001b[0moptuna\u001b[0m\u001b[0;34m.\u001b[0m\u001b[0mcreate_study\u001b[0m\u001b[0;34m(\u001b[0m\u001b[0mdirection\u001b[0m\u001b[0;34m=\u001b[0m\u001b[0;34m'maximize'\u001b[0m\u001b[0;34m,\u001b[0m \u001b[0mpruner\u001b[0m\u001b[0;34m=\u001b[0m\u001b[0moptuna\u001b[0m\u001b[0;34m.\u001b[0m\u001b[0mpruners\u001b[0m\u001b[0;34m.\u001b[0m\u001b[0mMedianPruner\u001b[0m\u001b[0;34m(\u001b[0m\u001b[0mn_warmup_steps\u001b[0m\u001b[0;34m=\u001b[0m\u001b[0;36m5\u001b[0m\u001b[0;34m)\u001b[0m\u001b[0;34m)\u001b[0m\u001b[0;34m\u001b[0m\u001b[0;34m\u001b[0m\u001b[0m\n\u001b[0;32m----> 2\u001b[0;31m \u001b[0mstudy\u001b[0m\u001b[0;34m.\u001b[0m\u001b[0moptimize\u001b[0m\u001b[0;34m(\u001b[0m\u001b[0mobjective\u001b[0m\u001b[0;34m,\u001b[0m\u001b[0;32mNone\u001b[0m \u001b[0;34m,\u001b[0m \u001b[0mtimeout\u001b[0m\u001b[0;34m=\u001b[0m\u001b[0;36m60\u001b[0m\u001b[0;34m*\u001b[0m\u001b[0;36m60\u001b[0m\u001b[0;34m*\u001b[0m\u001b[0;36m2\u001b[0m\u001b[0;34m)\u001b[0m\u001b[0;34m\u001b[0m\u001b[0;34m\u001b[0m\u001b[0m\n\u001b[0m",
      "\u001b[0;32m/opt/conda/lib/python3.7/site-packages/optuna/study.py\u001b[0m in \u001b[0;36moptimize\u001b[0;34m(self, func, n_trials, timeout, n_jobs, catch, callbacks, gc_after_trial, show_progress_bar)\u001b[0m\n\u001b[1;32m    407\u001b[0m             \u001b[0mcallbacks\u001b[0m\u001b[0;34m=\u001b[0m\u001b[0mcallbacks\u001b[0m\u001b[0;34m,\u001b[0m\u001b[0;34m\u001b[0m\u001b[0;34m\u001b[0m\u001b[0m\n\u001b[1;32m    408\u001b[0m             \u001b[0mgc_after_trial\u001b[0m\u001b[0;34m=\u001b[0m\u001b[0mgc_after_trial\u001b[0m\u001b[0;34m,\u001b[0m\u001b[0;34m\u001b[0m\u001b[0;34m\u001b[0m\u001b[0m\n\u001b[0;32m--> 409\u001b[0;31m             \u001b[0mshow_progress_bar\u001b[0m\u001b[0;34m=\u001b[0m\u001b[0mshow_progress_bar\u001b[0m\u001b[0;34m,\u001b[0m\u001b[0;34m\u001b[0m\u001b[0;34m\u001b[0m\u001b[0m\n\u001b[0m\u001b[1;32m    410\u001b[0m         )\n\u001b[1;32m    411\u001b[0m \u001b[0;34m\u001b[0m\u001b[0m\n",
      "\u001b[0;32m/opt/conda/lib/python3.7/site-packages/optuna/_optimize.py\u001b[0m in \u001b[0;36m_optimize\u001b[0;34m(study, func, n_trials, timeout, n_jobs, catch, callbacks, gc_after_trial, show_progress_bar)\u001b[0m\n\u001b[1;32m     74\u001b[0m                 \u001b[0mreseed_sampler_rng\u001b[0m\u001b[0;34m=\u001b[0m\u001b[0;32mFalse\u001b[0m\u001b[0;34m,\u001b[0m\u001b[0;34m\u001b[0m\u001b[0;34m\u001b[0m\u001b[0m\n\u001b[1;32m     75\u001b[0m                 \u001b[0mtime_start\u001b[0m\u001b[0;34m=\u001b[0m\u001b[0;32mNone\u001b[0m\u001b[0;34m,\u001b[0m\u001b[0;34m\u001b[0m\u001b[0;34m\u001b[0m\u001b[0m\n\u001b[0;32m---> 76\u001b[0;31m                 \u001b[0mprogress_bar\u001b[0m\u001b[0;34m=\u001b[0m\u001b[0mprogress_bar\u001b[0m\u001b[0;34m,\u001b[0m\u001b[0;34m\u001b[0m\u001b[0;34m\u001b[0m\u001b[0m\n\u001b[0m\u001b[1;32m     77\u001b[0m             )\n\u001b[1;32m     78\u001b[0m         \u001b[0;32melse\u001b[0m\u001b[0;34m:\u001b[0m\u001b[0;34m\u001b[0m\u001b[0;34m\u001b[0m\u001b[0m\n",
      "\u001b[0;32m/opt/conda/lib/python3.7/site-packages/optuna/_optimize.py\u001b[0m in \u001b[0;36m_optimize_sequential\u001b[0;34m(study, func, n_trials, timeout, catch, callbacks, gc_after_trial, reseed_sampler_rng, time_start, progress_bar)\u001b[0m\n\u001b[1;32m    161\u001b[0m \u001b[0;34m\u001b[0m\u001b[0m\n\u001b[1;32m    162\u001b[0m         \u001b[0;32mtry\u001b[0m\u001b[0;34m:\u001b[0m\u001b[0;34m\u001b[0m\u001b[0;34m\u001b[0m\u001b[0m\n\u001b[0;32m--> 163\u001b[0;31m             \u001b[0mtrial\u001b[0m \u001b[0;34m=\u001b[0m \u001b[0m_run_trial\u001b[0m\u001b[0;34m(\u001b[0m\u001b[0mstudy\u001b[0m\u001b[0;34m,\u001b[0m \u001b[0mfunc\u001b[0m\u001b[0;34m,\u001b[0m \u001b[0mcatch\u001b[0m\u001b[0;34m)\u001b[0m\u001b[0;34m\u001b[0m\u001b[0;34m\u001b[0m\u001b[0m\n\u001b[0m\u001b[1;32m    164\u001b[0m         \u001b[0;32mexcept\u001b[0m \u001b[0mException\u001b[0m\u001b[0;34m:\u001b[0m\u001b[0;34m\u001b[0m\u001b[0;34m\u001b[0m\u001b[0m\n\u001b[1;32m    165\u001b[0m             \u001b[0;32mraise\u001b[0m\u001b[0;34m\u001b[0m\u001b[0;34m\u001b[0m\u001b[0m\n",
      "\u001b[0;32m/opt/conda/lib/python3.7/site-packages/optuna/_optimize.py\u001b[0m in \u001b[0;36m_run_trial\u001b[0;34m(study, func, catch)\u001b[0m\n\u001b[1;32m    215\u001b[0m \u001b[0;34m\u001b[0m\u001b[0m\n\u001b[1;32m    216\u001b[0m     \u001b[0;32mtry\u001b[0m\u001b[0;34m:\u001b[0m\u001b[0;34m\u001b[0m\u001b[0;34m\u001b[0m\u001b[0m\n\u001b[0;32m--> 217\u001b[0;31m         \u001b[0mvalue_or_values\u001b[0m \u001b[0;34m=\u001b[0m \u001b[0mfunc\u001b[0m\u001b[0;34m(\u001b[0m\u001b[0mtrial\u001b[0m\u001b[0;34m)\u001b[0m\u001b[0;34m\u001b[0m\u001b[0;34m\u001b[0m\u001b[0m\n\u001b[0m\u001b[1;32m    218\u001b[0m     \u001b[0;32mexcept\u001b[0m \u001b[0mexceptions\u001b[0m\u001b[0;34m.\u001b[0m\u001b[0mTrialPruned\u001b[0m \u001b[0;32mas\u001b[0m \u001b[0me\u001b[0m\u001b[0;34m:\u001b[0m\u001b[0;34m\u001b[0m\u001b[0;34m\u001b[0m\u001b[0m\n\u001b[1;32m    219\u001b[0m         \u001b[0;31m# TODO(mamu): Handle multi-objective cases.\u001b[0m\u001b[0;34m\u001b[0m\u001b[0;34m\u001b[0m\u001b[0;34m\u001b[0m\u001b[0m\n",
      "\u001b[0;32m<ipython-input-156-42b28c083a69>\u001b[0m in \u001b[0;36mobjective\u001b[0;34m(trial)\u001b[0m\n\u001b[1;32m     11\u001b[0m     \u001b[0mvalidScore\u001b[0m\u001b[0;34m=\u001b[0m\u001b[0;36m0\u001b[0m\u001b[0;34m\u001b[0m\u001b[0;34m\u001b[0m\u001b[0m\n\u001b[1;32m     12\u001b[0m \u001b[0;34m\u001b[0m\u001b[0m\n\u001b[0;32m---> 13\u001b[0;31m     \u001b[0mmodel\u001b[0m\u001b[0;34m,\u001b[0m\u001b[0mlog\u001b[0m \u001b[0;34m=\u001b[0m \u001b[0mfitLGBM\u001b[0m\u001b[0;34m(\u001b[0m\u001b[0mtrial\u001b[0m\u001b[0;34m,\u001b[0m\u001b[0mx_train\u001b[0m\u001b[0;34m,\u001b[0m\u001b[0my_train\u001b[0m\u001b[0;34m)\u001b[0m\u001b[0;34m\u001b[0m\u001b[0;34m\u001b[0m\u001b[0m\n\u001b[0m\u001b[1;32m     14\u001b[0m \u001b[0;34m\u001b[0m\u001b[0m\n\u001b[1;32m     15\u001b[0m     \u001b[0mmodels\u001b[0m\u001b[0;34m.\u001b[0m\u001b[0mappend\u001b[0m\u001b[0;34m(\u001b[0m\u001b[0mmodel\u001b[0m\u001b[0;34m)\u001b[0m\u001b[0;34m\u001b[0m\u001b[0;34m\u001b[0m\u001b[0m\n",
      "\u001b[0;32m<ipython-input-188-3da5bf2ef4d2>\u001b[0m in \u001b[0;36mfitLGBM\u001b[0;34m(trial, X, y)\u001b[0m\n\u001b[1;32m     20\u001b[0m         model.fit(X_train, y_train,\n\u001b[1;32m     21\u001b[0m                  \u001b[0meval_set\u001b[0m\u001b[0;34m=\u001b[0m\u001b[0;34m[\u001b[0m\u001b[0;34m(\u001b[0m\u001b[0mX_train\u001b[0m\u001b[0;34m,\u001b[0m \u001b[0my_train\u001b[0m\u001b[0;34m)\u001b[0m\u001b[0;34m,\u001b[0m \u001b[0;34m(\u001b[0m\u001b[0mX_valid\u001b[0m\u001b[0;34m,\u001b[0m \u001b[0my_valid\u001b[0m\u001b[0;34m)\u001b[0m\u001b[0;34m]\u001b[0m\u001b[0;34m,\u001b[0m\u001b[0;34m\u001b[0m\u001b[0;34m\u001b[0m\u001b[0m\n\u001b[0;32m---> 22\u001b[0;31m                  early_stopping_rounds=30, verbose=False)\n\u001b[0m\u001b[1;32m     23\u001b[0m         \u001b[0mpreds\u001b[0m \u001b[0;34m=\u001b[0m \u001b[0mmodel\u001b[0m\u001b[0;34m.\u001b[0m\u001b[0mpredict_proba\u001b[0m\u001b[0;34m(\u001b[0m\u001b[0mX_valid\u001b[0m\u001b[0;34m)\u001b[0m\u001b[0;34m\u001b[0m\u001b[0;34m\u001b[0m\u001b[0m\n\u001b[1;32m     24\u001b[0m         \u001b[0mfalse_positive_rate\u001b[0m\u001b[0;34m,\u001b[0m \u001b[0mtrue_positive_rate\u001b[0m\u001b[0;34m,\u001b[0m \u001b[0mthresholds\u001b[0m \u001b[0;34m=\u001b[0m \u001b[0mroc_curve\u001b[0m\u001b[0;34m(\u001b[0m\u001b[0my_valid\u001b[0m\u001b[0;34m,\u001b[0m \u001b[0mpreds\u001b[0m\u001b[0;34m[\u001b[0m\u001b[0;34m:\u001b[0m\u001b[0;34m,\u001b[0m\u001b[0;36m1\u001b[0m\u001b[0;34m]\u001b[0m\u001b[0;34m)\u001b[0m\u001b[0;34m\u001b[0m\u001b[0;34m\u001b[0m\u001b[0m\n",
      "\u001b[0;32m/opt/conda/lib/python3.7/site-packages/lightgbm/sklearn.py\u001b[0m in \u001b[0;36mfit\u001b[0;34m(self, X, y, sample_weight, init_score, eval_set, eval_names, eval_sample_weight, eval_class_weight, eval_init_score, eval_metric, early_stopping_rounds, verbose, feature_name, categorical_feature, callbacks, init_model)\u001b[0m\n\u001b[1;32m    893\u001b[0m                     \u001b[0meval_metric\u001b[0m\u001b[0;34m=\u001b[0m\u001b[0meval_metric\u001b[0m\u001b[0;34m,\u001b[0m \u001b[0mearly_stopping_rounds\u001b[0m\u001b[0;34m=\u001b[0m\u001b[0mearly_stopping_rounds\u001b[0m\u001b[0;34m,\u001b[0m\u001b[0;34m\u001b[0m\u001b[0;34m\u001b[0m\u001b[0m\n\u001b[1;32m    894\u001b[0m                     \u001b[0mverbose\u001b[0m\u001b[0;34m=\u001b[0m\u001b[0mverbose\u001b[0m\u001b[0;34m,\u001b[0m \u001b[0mfeature_name\u001b[0m\u001b[0;34m=\u001b[0m\u001b[0mfeature_name\u001b[0m\u001b[0;34m,\u001b[0m \u001b[0mcategorical_feature\u001b[0m\u001b[0;34m=\u001b[0m\u001b[0mcategorical_feature\u001b[0m\u001b[0;34m,\u001b[0m\u001b[0;34m\u001b[0m\u001b[0;34m\u001b[0m\u001b[0m\n\u001b[0;32m--> 895\u001b[0;31m                     callbacks=callbacks, init_model=init_model)\n\u001b[0m\u001b[1;32m    896\u001b[0m         \u001b[0;32mreturn\u001b[0m \u001b[0mself\u001b[0m\u001b[0;34m\u001b[0m\u001b[0;34m\u001b[0m\u001b[0m\n\u001b[1;32m    897\u001b[0m \u001b[0;34m\u001b[0m\u001b[0m\n",
      "\u001b[0;32m/opt/conda/lib/python3.7/site-packages/lightgbm/sklearn.py\u001b[0m in \u001b[0;36mfit\u001b[0;34m(self, X, y, sample_weight, init_score, group, eval_set, eval_names, eval_sample_weight, eval_class_weight, eval_init_score, eval_group, eval_metric, early_stopping_rounds, verbose, feature_name, categorical_feature, callbacks, init_model)\u001b[0m\n\u001b[1;32m    686\u001b[0m                               \u001b[0mevals_result\u001b[0m\u001b[0;34m=\u001b[0m\u001b[0mevals_result\u001b[0m\u001b[0;34m,\u001b[0m \u001b[0mfobj\u001b[0m\u001b[0;34m=\u001b[0m\u001b[0mself\u001b[0m\u001b[0;34m.\u001b[0m\u001b[0m_fobj\u001b[0m\u001b[0;34m,\u001b[0m \u001b[0mfeval\u001b[0m\u001b[0;34m=\u001b[0m\u001b[0meval_metrics_callable\u001b[0m\u001b[0;34m,\u001b[0m\u001b[0;34m\u001b[0m\u001b[0;34m\u001b[0m\u001b[0m\n\u001b[1;32m    687\u001b[0m                               \u001b[0mverbose_eval\u001b[0m\u001b[0;34m=\u001b[0m\u001b[0mverbose\u001b[0m\u001b[0;34m,\u001b[0m \u001b[0mfeature_name\u001b[0m\u001b[0;34m=\u001b[0m\u001b[0mfeature_name\u001b[0m\u001b[0;34m,\u001b[0m\u001b[0;34m\u001b[0m\u001b[0;34m\u001b[0m\u001b[0m\n\u001b[0;32m--> 688\u001b[0;31m                               callbacks=callbacks, init_model=init_model)\n\u001b[0m\u001b[1;32m    689\u001b[0m \u001b[0;34m\u001b[0m\u001b[0m\n\u001b[1;32m    690\u001b[0m         \u001b[0;32mif\u001b[0m \u001b[0mevals_result\u001b[0m\u001b[0;34m:\u001b[0m\u001b[0;34m\u001b[0m\u001b[0;34m\u001b[0m\u001b[0m\n",
      "\u001b[0;32m/opt/conda/lib/python3.7/site-packages/lightgbm/engine.py\u001b[0m in \u001b[0;36mtrain\u001b[0;34m(params, train_set, num_boost_round, valid_sets, valid_names, fobj, feval, init_model, feature_name, categorical_feature, early_stopping_rounds, evals_result, verbose_eval, learning_rates, keep_training_booster, callbacks)\u001b[0m\n\u001b[1;32m    247\u001b[0m                                     evaluation_result_list=None))\n\u001b[1;32m    248\u001b[0m \u001b[0;34m\u001b[0m\u001b[0m\n\u001b[0;32m--> 249\u001b[0;31m         \u001b[0mbooster\u001b[0m\u001b[0;34m.\u001b[0m\u001b[0mupdate\u001b[0m\u001b[0;34m(\u001b[0m\u001b[0mfobj\u001b[0m\u001b[0;34m=\u001b[0m\u001b[0mfobj\u001b[0m\u001b[0;34m)\u001b[0m\u001b[0;34m\u001b[0m\u001b[0;34m\u001b[0m\u001b[0m\n\u001b[0m\u001b[1;32m    250\u001b[0m \u001b[0;34m\u001b[0m\u001b[0m\n\u001b[1;32m    251\u001b[0m         \u001b[0mevaluation_result_list\u001b[0m \u001b[0;34m=\u001b[0m \u001b[0;34m[\u001b[0m\u001b[0;34m]\u001b[0m\u001b[0;34m\u001b[0m\u001b[0;34m\u001b[0m\u001b[0m\n",
      "\u001b[0;32m/opt/conda/lib/python3.7/site-packages/lightgbm/basic.py\u001b[0m in \u001b[0;36mupdate\u001b[0;34m(self, train_set, fobj)\u001b[0m\n\u001b[1;32m   2643\u001b[0m             _safe_call(_LIB.LGBM_BoosterUpdateOneIter(\n\u001b[1;32m   2644\u001b[0m                 \u001b[0mself\u001b[0m\u001b[0;34m.\u001b[0m\u001b[0mhandle\u001b[0m\u001b[0;34m,\u001b[0m\u001b[0;34m\u001b[0m\u001b[0;34m\u001b[0m\u001b[0m\n\u001b[0;32m-> 2645\u001b[0;31m                 ctypes.byref(is_finished)))\n\u001b[0m\u001b[1;32m   2646\u001b[0m             \u001b[0mself\u001b[0m\u001b[0;34m.\u001b[0m\u001b[0m__is_predicted_cur_iter\u001b[0m \u001b[0;34m=\u001b[0m \u001b[0;34m[\u001b[0m\u001b[0;32mFalse\u001b[0m \u001b[0;32mfor\u001b[0m \u001b[0m_\u001b[0m \u001b[0;32min\u001b[0m \u001b[0mrange\u001b[0m\u001b[0;34m(\u001b[0m\u001b[0mself\u001b[0m\u001b[0;34m.\u001b[0m\u001b[0m__num_dataset\u001b[0m\u001b[0;34m)\u001b[0m\u001b[0;34m]\u001b[0m\u001b[0;34m\u001b[0m\u001b[0;34m\u001b[0m\u001b[0m\n\u001b[1;32m   2647\u001b[0m             \u001b[0;32mreturn\u001b[0m \u001b[0mis_finished\u001b[0m\u001b[0;34m.\u001b[0m\u001b[0mvalue\u001b[0m \u001b[0;34m==\u001b[0m \u001b[0;36m1\u001b[0m\u001b[0;34m\u001b[0m\u001b[0;34m\u001b[0m\u001b[0m\n",
      "\u001b[0;31mKeyboardInterrupt\u001b[0m: "
     ]
    }
   ],
   "source": [
    "study = optuna.create_study(direction='maximize', pruner=optuna.pruners.MedianPruner(n_warmup_steps=5))\n",
    "study.optimize(objective,None , timeout=60*60*2)"
   ]
  },
  {
   "cell_type": "code",
   "execution_count": 211,
   "metadata": {},
   "outputs": [],
   "source": [
    "def lgb_f1_score(y_true, y_hat):\n",
    "\n",
    "    y_hat= np.where(y_hat < 0.5, 0, 1)   # scikits f1 doesn't like probabilities\n",
    "    return f1_score(y_true, y_hat, average = \"micro\")\n",
    "\n",
    "opt_params = {'n_estimators': 10, 'num_leaves': 3, 'max_depth': 1, 'learning_rate': 0.0025520582238931075, 'min_split_gain': 0.016775737179389627, 'feature_fraction': 0.39391056554912707, 'bagging_freq': 7}\n",
    "model = LGBMClassifier(**opt_params, random_state=44, metric = \"auc\")\n",
    "\n",
    "stkfold = StratifiedKFold(n_splits=5, shuffle=True, random_state = 44)\n",
    "\n",
    "def calc(X, y, model, cv):\n",
    "    res=[]\n",
    "    local_probs=pd.DataFrame()\n",
    "    probs = pd.DataFrame()\n",
    "\n",
    "    for i, (tdx, vdx) in tn(enumerate(cv.split(X, y))):\n",
    "        X_train, X_valid, y_train, y_valid = X.iloc[tdx], X.iloc[vdx], y[tdx], y[vdx]\n",
    "        #  X_train, y_train = smote.fit_resample(X_train, y_train)\n",
    "        model.fit(X_train, y_train,\n",
    "                 eval_set=[(X_train, y_train), (X_valid, y_valid)],\n",
    "                 #eval_metric = evaluate_macroF1_lgb,\n",
    "                 early_stopping_rounds=30, verbose=0)\n",
    "        \n",
    "        preds = model.predict_proba(X_valid)\n",
    "       # preds1 = np.array(list(map(lambda x: 1 if x>0.5 else x, preds[:,1])))\n",
    "       # print(preds1.shape)\n",
    "        oof_predict = model.predict_proba(x_test)\n",
    "        local_probs['fold_%i'%i] = oof_predict[:,1]\n",
    "        # may differ\n",
    "        false_positive_rate, true_positive_rate, thresholds = roc_curve(y_valid, preds[:,1])\n",
    "        # may differ\n",
    "        print (auc(false_positive_rate, true_positive_rate))\n",
    "        res.append(auc(false_positive_rate, true_positive_rate))\n",
    "        #print (lgb_f1_score(y_valid, preds[:,1]))\n",
    "        #res.append(lgb_f1_score(y_valid, preds[:,1]))\n",
    "\n",
    "    print('f1_Score:', round(np.mean(res), 6))    \n",
    "    local_probs['res'] = local_probs.mean(axis=1)\n",
    "    probs['target'] = local_probs['res']\n",
    "    return probs"
   ]
  },
  {
   "cell_type": "code",
   "execution_count": 212,
   "metadata": {},
   "outputs": [
    {
     "data": {
      "application/vnd.jupyter.widget-view+json": {
       "model_id": "8b903f4578804839bdf7cb48423c0009",
       "version_major": 2,
       "version_minor": 0
      },
      "text/plain": [
       "0it [00:00, ?it/s]"
      ]
     },
     "metadata": {},
     "output_type": "display_data"
    },
    {
     "name": "stdout",
     "output_type": "stream",
     "text": [
      "[LightGBM] [Warning] feature_fraction is set=0.39391056554912707, colsample_bytree=1.0 will be ignored. Current value: feature_fraction=0.39391056554912707\n",
      "[LightGBM] [Warning] bagging_freq is set=7, subsample_freq=0 will be ignored. Current value: bagging_freq=7\n",
      "0.8127070746443189\n",
      "[LightGBM] [Warning] feature_fraction is set=0.39391056554912707, colsample_bytree=1.0 will be ignored. Current value: feature_fraction=0.39391056554912707\n",
      "[LightGBM] [Warning] bagging_freq is set=7, subsample_freq=0 will be ignored. Current value: bagging_freq=7\n",
      "0.8497693756902488\n",
      "[LightGBM] [Warning] feature_fraction is set=0.39391056554912707, colsample_bytree=1.0 will be ignored. Current value: feature_fraction=0.39391056554912707\n",
      "[LightGBM] [Warning] bagging_freq is set=7, subsample_freq=0 will be ignored. Current value: bagging_freq=7\n",
      "0.8308321964529332\n",
      "[LightGBM] [Warning] feature_fraction is set=0.39391056554912707, colsample_bytree=1.0 will be ignored. Current value: feature_fraction=0.39391056554912707\n",
      "[LightGBM] [Warning] bagging_freq is set=7, subsample_freq=0 will be ignored. Current value: bagging_freq=7\n",
      "0.8548009367681499\n",
      "[LightGBM] [Warning] feature_fraction is set=0.39391056554912707, colsample_bytree=1.0 will be ignored. Current value: feature_fraction=0.39391056554912707\n",
      "[LightGBM] [Warning] bagging_freq is set=7, subsample_freq=0 will be ignored. Current value: bagging_freq=7\n",
      "0.8479378090033827\n",
      "f1_Score: 0.839209\n",
      "CPU times: user 572 ms, sys: 4.15 ms, total: 576 ms\n",
      "Wall time: 184 ms\n"
     ]
    }
   ],
   "source": [
    "%%time\n",
    "probs = calc(x_train, y_train, model, stkfold)"
   ]
  },
  {
   "cell_type": "code",
   "execution_count": 210,
   "metadata": {},
   "outputs": [
    {
     "name": "stdout",
     "output_type": "stream",
     "text": [
      "[[1314  256]\n",
      " [   0  180]]\n",
      "              precision    recall  f1-score   support\n",
      "\n",
      "           0       1.00      0.84      0.91      1570\n",
      "           1       0.41      1.00      0.58       180\n",
      "\n",
      "    accuracy                           0.85      1750\n",
      "   macro avg       0.71      0.92      0.75      1750\n",
      "weighted avg       0.94      0.85      0.88      1750\n",
      "\n",
      "0.8537142857142858\n"
     ]
    }
   ],
   "source": [
    "y_pred = np.where(probs[\"target\"]*5<0.506, 0, 1)\n",
    "from sklearn.metrics import classification_report, confusion_matrix, accuracy_score\n",
    "print(confusion_matrix(y_test,y_pred))\n",
    "print(classification_report(y_test,y_pred))\n",
    "print(accuracy_score(y_test, y_pred))"
   ]
  },
  {
   "cell_type": "code",
   "execution_count": null,
   "metadata": {},
   "outputs": [],
   "source": []
  }
 ],
 "metadata": {
  "kernelspec": {
   "display_name": "Python 3",
   "language": "python",
   "name": "python3"
  },
  "language_info": {
   "codemirror_mode": {
    "name": "ipython",
    "version": 3
   },
   "file_extension": ".py",
   "mimetype": "text/x-python",
   "name": "python",
   "nbconvert_exporter": "python",
   "pygments_lexer": "ipython3",
   "version": "3.8.2"
  }
 },
 "nbformat": 4,
 "nbformat_minor": 4
}
